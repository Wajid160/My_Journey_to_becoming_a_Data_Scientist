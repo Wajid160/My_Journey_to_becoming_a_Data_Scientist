{
 "cells": [
  {
   "cell_type": "markdown",
   "id": "bdeeeff9-fb26-4433-860d-f71f28f7b23a",
   "metadata": {},
   "source": [
    "## Advance Python Topics:"
   ]
  },
  {
   "cell_type": "markdown",
   "id": "5866333d-6dc1-440d-8ad1-3f0dbadeae32",
   "metadata": {},
   "source": [
    "### Contents:\n",
    "- File Handling:\n",
    "  - What is File Handling?\n",
    "  - Why we need File Handling?\n",
    "  - Types of Files\n",
    "  - CRUD Operations\n",
    "  - Python File Handling System\n",
    "  - Reading Text File in Python:\n",
    "  - writing Text File in Python:\n",
    "  - creating new file\n",
    "  - deleting a file \n",
    "- Exception Handling\n",
    "- Regular Expression:\n",
    "  - Raw String:\n",
    "- Functional Programming: :"
   ]
  },
  {
   "cell_type": "markdown",
   "id": "71ed184f-fd66-4e0b-8a7e-ad6c8825e97b",
   "metadata": {},
   "source": [
    "## File Handling:"
   ]
  },
  {
   "cell_type": "markdown",
   "id": "bc299d9c-c2f6-4f6c-a63f-9a96fc638ca3",
   "metadata": {},
   "source": [
    "### What is File Handling?\r\n",
    "File handling refers to the process of creating, opening, reading, writing, and closing files in a program. In Python, it allows interaction with files on your computer to store and manage data.results."
   ]
  },
  {
   "cell_type": "markdown",
   "id": "c5e9677b-db6e-4847-a0b3-5df45d20180a",
   "metadata": {},
   "source": [
    "### Why We Need File Handling?\n",
    "1. **Persistent Storage**: To save data even after a program ends.\n",
    "2. **Data Import/Export**: Handling datasets in formats like CSV, JSON, etc.\n",
    "3. **Log Maintenance**: For tracking and debugging programs.\n",
    "4. **Processing Large Data**: Files allow working with data that cannot fit into memory.\n",
    "5. **Automation**: It enables automation of tasks like generating reports or saving results."
   ]
  },
  {
   "cell_type": "markdown",
   "id": "2f4f2ab1-53eb-43fa-a271-a3a0eff238c5",
   "metadata": {},
   "source": [
    "### Types of Files in Python:\r\n",
    "\r\n",
    "1. **Text Files**:\r\n",
    "   - Stores data in plain text (e.g., `.txt`, `.csv`).\r\n",
    "   - Data is human-readable.\r\n",
    "  \r\n",
    "2. **Binary Files**:\r\n",
    "   - Stores data in binary format (e.g., images, videos, `.exe`).\r\n",
    "   - Data is not human-readable, requires specific software or dein Python."
   ]
  },
  {
   "cell_type": "markdown",
   "id": "96a73758-93a4-4a1e-9a80-1835c5de722a",
   "metadata": {},
   "source": [
    "### CRUD Operation:\n",
    "\n",
    "CRUD stands for **Create, Read, Update, Delete**. It represents the four basic functions of persistent storage systems, like databases or files:\r\n",
    "\r\n",
    "1. **Create**: Add new data (e.g., inserting a new record).\r\n",
    "2. **Read**: Retrieve or view existing data.\r\n",
    "3. **Update**: Modify or edit existing data.\r\n",
    "4. **Delete**: Remove d- ata.\r\n",
    "\r\n",
    "These operations are fundamental for managing data in databases, files, or any data storage system."
   ]
  },
  {
   "cell_type": "markdown",
   "id": "d3814268-3f74-4ad3-b371-ed9329406b86",
   "metadata": {},
   "source": [
    "### Python File Handling System:\n",
    "\n",
    "In Python, file handling is done using built-in functions and follows these steps:\n",
    "\n",
    "1. **Open a File**:\n",
    "   - Use `open()` function: `file = open(\"filename\", \"mode\")`\n",
    "   - Modes: \n",
    "     - `'r'`: **Read** default value, opens a file for reading, error if the file does not exist.\n",
    "     - `'w'`: **Write** opens a for wrinting, creates a new file if it doesn't exist'\n",
    "     - `'a'`: **Append** opens a file for appending, creates the file if the file does not exist.\n",
    "     - `'x'`: **Create** create a specified file, returns an error if the file exists.\n",
    "     - `'b'`: **binary** (used with other modes)\n",
    "\n",
    "2. **Read/Write**:\n",
    "   - Reading: `file.read()`, `file.readline()`, `file.readlines()`\n",
    "   - Writing: `file.write()`, `file.writelines()`\n",
    "\n",
    "3. **Close the File**:\n",
    "   - Use `file.close()` to free system resources.\n",
    "\n",
    "Alternatively, you can use the `with` statement for automatic file handling:\n",
    "```python\n",
    "with open(\"filename\", \"mode\") as file:\n",
    "    # file operations\n",
    "```\n",
    "\n",
    "This system ensures efficient and error-free file operations."
   ]
  },
  {
   "cell_type": "markdown",
   "id": "db5d6cbf-c7ee-4e40-86f0-555d189ab482",
   "metadata": {},
   "source": [
    "#### Reading Text File in Python:"
   ]
  },
  {
   "cell_type": "code",
   "execution_count": 3,
   "id": "3e82b71b-eb3e-4f29-a6b3-bcc499e88e60",
   "metadata": {},
   "outputs": [
    {
     "name": "stdout",
     "output_type": "stream",
     "text": [
      "This is Demo File.\n",
      "This \n"
     ]
    }
   ],
   "source": [
    "# Read every single valid charecter present in the file.\n",
    "file = open(\"demo_file.txt\",\"r\")\n",
    "print(file.read())\n",
    "file.close()\n",
    "\n",
    "# Read only mentioned charecters.\n",
    "file = open(\"demo_file.txt\", \"r\")\n",
    "print(file.read(5))\n",
    "file.close()\n",
    "\n",
    "# "
   ]
  },
  {
   "cell_type": "code",
   "execution_count": 16,
   "id": "cfe8cd22-f5a9-4777-817c-5dea310fc461",
   "metadata": {},
   "outputs": [
    {
     "name": "stdout",
     "output_type": "stream",
     "text": [
      "This is Demo File.\n",
      "\n",
      "['This is Demo File.\\n', 'and this is 2nd line,\\n', 'this is third line.\\n', 'ok!\\n', '\\n', 'goof']\n"
     ]
    }
   ],
   "source": [
    "# it only read first line of the file\n",
    "file = open(\"demo_file.txt\", \"r\")\n",
    "print(file.readline())\n",
    "file.close()\n",
    "\n",
    "# reading all the lines\n",
    "file = open(\"demo_file.txt\",\"r\")\n",
    "print(file.readlines())\n",
    "file.close()"
   ]
  },
  {
   "cell_type": "markdown",
   "id": "b3808fd1-f479-4687-a8c1-7c3663eeecf1",
   "metadata": {},
   "source": [
    "**Looping Over a File Object:**"
   ]
  },
  {
   "cell_type": "code",
   "execution_count": 18,
   "id": "39008c9a-79f3-4554-ab82-c9325afab9cb",
   "metadata": {},
   "outputs": [
    {
     "name": "stdout",
     "output_type": "stream",
     "text": [
      "This is Demo File.\n",
      "\n",
      "and this is 2nd line,\n",
      "\n",
      "this is third line.\n",
      "\n",
      "ok!\n",
      "\n",
      "\n",
      "\n",
      "goof\n"
     ]
    }
   ],
   "source": [
    "file = open(\"demo_file.txt\", \"r\")\n",
    "for line in file:\n",
    "    print(line)\n",
    "file.close()"
   ]
  },
  {
   "cell_type": "markdown",
   "id": "5ae34af6-4f9e-4614-b599-e5a14dd89287",
   "metadata": {},
   "source": [
    "#### writing Text File in Python:\n",
    "- To write to an existing file you must add a parameter to the open() function.\n",
    "  - `'a'` **Append:** will append to the end of the file.\n",
    "  - `'w'` **Write:** will overwrite any existing content.  "
   ]
  },
  {
   "cell_type": "code",
   "execution_count": 30,
   "id": "23585e9b-73f8-49c6-80b4-83f4339641b2",
   "metadata": {},
   "outputs": [],
   "source": [
    "file = open(\"demo_file.txt\", \"a\")\n",
    "file.write(\" this is appending in the existing file.\")\n",
    "file.close()"
   ]
  },
  {
   "cell_type": "code",
   "execution_count": 31,
   "id": "4f11d7cf-f76d-4a9f-a4ec-c6a09c09e8d7",
   "metadata": {},
   "outputs": [],
   "source": [
    "file = open(\"demo_file.txt\", 'w')\n",
    "file.write(\"this file has been re-written successfully!\")\n",
    "file.close()"
   ]
  },
  {
   "cell_type": "markdown",
   "id": "d49125ef-9048-4e20-8111-926b426f5d17",
   "metadata": {},
   "source": [
    "#### Creating a New File:"
   ]
  },
  {
   "cell_type": "code",
   "execution_count": 38,
   "id": "6360a2c5-5641-4df0-9ad2-cffaf133fa03",
   "metadata": {},
   "outputs": [],
   "source": [
    "file = open(\"new_file.txt\", \"x\")\n",
    "file.write(\"this is a new file just created\")\n",
    "file.close()"
   ]
  },
  {
   "cell_type": "markdown",
   "id": "508b9f14-d48e-42cb-bd90-1d511e35c298",
   "metadata": {},
   "source": [
    "#### Deleting a File:\n",
    "- To delete a file, you must import **os** module, and run its **os.remove()** function."
   ]
  },
  {
   "cell_type": "code",
   "execution_count": 33,
   "id": "3c1aa17e-2d43-47cd-991f-5ab6a8e6b221",
   "metadata": {},
   "outputs": [],
   "source": [
    "import os\n",
    "os.remove(\"new_file.txt\")\n"
   ]
  },
  {
   "cell_type": "code",
   "execution_count": 39,
   "id": "ac513bc3-27d3-4268-a135-fecf97adfbd2",
   "metadata": {},
   "outputs": [
    {
     "name": "stdout",
     "output_type": "stream",
     "text": [
      "file has been deleted successfully\n"
     ]
    }
   ],
   "source": [
    "# Check if File Exists\n",
    "import os\n",
    "if os.path.exists(\"new_file.txt\"):\n",
    "    os.remove(\"new_file.txt\")\n",
    "    print(\"file has been deleted successfully\")\n",
    "else:\n",
    "    print(\"the file does not exist\")"
   ]
  },
  {
   "cell_type": "code",
   "execution_count": 41,
   "id": "b42518df-18fa-479c-83b8-ff9d8ebe92a7",
   "metadata": {},
   "outputs": [],
   "source": [
    "# Deleting a folder\n",
    "import os\n",
    "os.rmdir(\"new_folder\")"
   ]
  },
  {
   "cell_type": "markdown",
   "id": "500da503-dbb4-4821-ab22-9883f4199686",
   "metadata": {},
   "source": [
    "## Exception Handling:"
   ]
  },
  {
   "cell_type": "markdown",
   "id": "6f33788f-0321-49d2-84da-30aa58dc1efc",
   "metadata": {},
   "source": [
    "- Exception handling is a mechanism in programming to manage errors and unexpected situations without crashing the program.\n",
    "- In Python, it uses try, except, else, and finally blocks to catch and handle exceptions.\n",
    "\n",
    "- Key Components:\n",
    "  - **try:** The code that might raise an exception is placed inside this block.\n",
    "  - **except:** This block catches and handles the exception if one occurs.\n",
    "  - **else:** Code to execute if no exception occurs (optional).\n",
    "  - **finally:** Code that will always execute, whether an exception occurred or not (optional)."
   ]
  },
  {
   "cell_type": "code",
   "execution_count": 49,
   "id": "82dfd2e2-fa79-47ff-ae2d-37a0030a51b3",
   "metadata": {},
   "outputs": [
    {
     "name": "stdout",
     "output_type": "stream",
     "text": [
      "['this file has been re-written successfully!']\n",
      "This is 'Finally' is being executed!\n"
     ]
    }
   ],
   "source": [
    "try:\n",
    "    file = open(\"demo_file.txt\")\n",
    "    #var = bad_var\n",
    "except Exception:\n",
    "    print(\"Sorry, This file does not exist\")\n",
    "# this is extra code, for seing alias of exception as e    \n",
    "except Exception as e:\n",
    "    print(e)\n",
    "else:\n",
    "    print(file.readlines())\n",
    "    file.close()\n",
    "finally:\n",
    "    print(\"This is 'Finally' is being executed!\")"
   ]
  },
  {
   "cell_type": "markdown",
   "id": "19969563-bc7d-40c0-9e0c-50d518d8223f",
   "metadata": {},
   "source": [
    "## Regular Expression:"
   ]
  },
  {
   "cell_type": "markdown",
   "id": "122e64cf-09b2-41e5-8fcb-d0e544a66852",
   "metadata": {},
   "source": [
    "- Regular expressions are a powerful tool for matching patterns in strings. They are used for searching, extracting, or modifying text based on specific patterns or rules.\n",
    "\n",
    "#### Key Components:\n",
    "1. **Patterns**: Special sequences of characters define a search pattern.\n",
    "   - Example: `\\d` matches any digit, `\\w` matches any word character.\n",
    "   \n",
    "2. **Functions in Python**:\n",
    "   - `re.search()`: Searches for the pattern in a string.\n",
    "   - `re.match()`: Checks if the pattern matches at the beginning of the string.\n",
    "   - `re.findall()`: Returns all matches in the string.\n",
    "   - `re.sub()`: Replaces matches with another string.\n",
    "\n",
    "#### Example:\n",
    "```python\n",
    "import re\n",
    "pattern = r\"\\d{3}-\\d{3}-\\d{4}\"\n",
    "text = \"My phone number is 123-456-7890\"\n",
    "match = re.search(pattern, text)\n",
    "if match:\n",
    "    print(\"Valid phone number found!\")\n",
    "```\n",
    "\n",
    "- Regular expressions are commonly used in text processing, data validation, and web scraping."
   ]
  },
  {
   "cell_type": "markdown",
   "id": "b8fe872a-38b7-43e6-bd0a-8714182c57c0",
   "metadata": {},
   "source": [
    "#### Patterns:\n",
    "- **.**  Any Charecter Except new Line. \n",
    "- **\\d** Digit (0-9)\n",
    "- **\\D** Not a Digit (0-9)\n",
    "- **\\w** word charecter (a-z, A-Z, 0-9)\n",
    "- **\\W** Not a word Charecter\n",
    "- **\\s** Whitespace (space, tab, newline)\n",
    "- **\\S** Not a whitespace (space, tab, newline)tion, and web scraping."
   ]
  },
  {
   "cell_type": "markdown",
   "id": "52dceb8c-0c91-4115-b5e5-202dd7ee5c37",
   "metadata": {},
   "source": [
    "- **These are called anchors:**\n",
    "  - **\\b** Word Boundary (word boundary is like space, newline, tab.)\n",
    "  - **\\B** Not a word Boundary\n",
    "  - **^**  Beginning of a String *(^ called caret)*\n",
    "  - **$**  End of a String"
   ]
  },
  {
   "cell_type": "markdown",
   "id": "995d7720-3b65-4038-9491-e3fe9301feb6",
   "metadata": {},
   "source": [
    "- **Charecter Set:**\n",
    "  - **[]**   Matches Characters in brackets\n",
    "  - **[^ ]** Matches Characters NOT in brackets\n",
    "  - **|**    Either or\n",
    "  - **()**   Group"
   ]
  },
  {
   "cell_type": "code",
   "execution_count": 17,
   "id": "9459a213-433f-4796-ad98-984064367095",
   "metadata": {},
   "outputs": [
    {
     "name": "stdout",
     "output_type": "stream",
     "text": [
      "<re.Match object; span=(158, 170), match='321-555-4321'>\n",
      "<re.Match object; span=(171, 183), match='123.555.1234'>\n"
     ]
    }
   ],
   "source": [
    "import re\n",
    "\n",
    "pattern =  re.compile(r\"\\d\\d\\d[.-]\\d\\d\\d[.-]\\d\\d\\d\\d\")\n",
    "# pattern =  re.compile(r\"[^b]at\")\n",
    "\n",
    "matches  = pattern.finditer(text_to_search)\n",
    "\n",
    "for match in matches:\n",
    "    print(match)"
   ]
  },
  {
   "cell_type": "markdown",
   "id": "bcfe6fb1-8361-4b37-a5d2-7b0619a5dadd",
   "metadata": {},
   "source": [
    "- **Quantifiers:**\n",
    "  - **\\***    0 or More\n",
    "  - **+**     1 or More\n",
    "  - **?**     0 or one\n",
    "  - **{3}**   Exact Number\n",
    "  - **{3,4}** Range of Numbers (Minimum, Maximum) "
   ]
  },
  {
   "cell_type": "code",
   "execution_count": 19,
   "id": "fffaa2c0-135a-4c3e-b7e6-b88a65656b35",
   "metadata": {},
   "outputs": [
    {
     "name": "stdout",
     "output_type": "stream",
     "text": [
      "<re.Match object; span=(158, 170), match='321-555-4321'>\n",
      "<re.Match object; span=(171, 183), match='123.555.1234'>\n"
     ]
    }
   ],
   "source": [
    "import re\n",
    "\n",
    "pattern =  re.compile(r\"\\d{3}.\\d{3}.\\d{4}\")\n",
    "\n",
    "\n",
    "matches  = pattern.finditer(text_to_search)\n",
    "\n",
    "for match in matches:\n",
    "    print(match)"
   ]
  },
  {
   "cell_type": "code",
   "execution_count": 22,
   "id": "9a3579a3-6149-4e72-8ce7-c998bd93becb",
   "metadata": {},
   "outputs": [],
   "source": [
    "import re\n",
    "\n",
    "text_to_search = \"\"\"\n",
    "\n",
    "abcdefghijklmnopqrstuvwxyz\n",
    "ABCDEFGHIJKLMNOPQRSTUVWXYZ\n",
    "1234567890\n",
    "\n",
    "Ha HaHa\n",
    "\n",
    "MetaCharecters (Need to be escaped):\n",
    "\n",
    ". ^ $ * + ? { } [ ] \\ | ( ) \n",
    "\n",
    "coreyms.com\n",
    "\n",
    "321-555-4321\n",
    "123.555.1234\n",
    "\n",
    "Emails:\n",
    "wajidjaved160@gmail.com\n",
    "wajid.javed@student.edu\n",
    "wajid-123-javed@my-work.net\n",
    "\n",
    "URLs:\n",
    "http://www.mysite.com\n",
    "https://www.google.com\n",
    "https://youtube.com\n",
    "https://www.nasa.gov\n",
    "\n",
    "cat\n",
    "mat\n",
    "vat\n",
    "bat\n",
    "lat\n",
    "\n",
    "Mr. Wajid\n",
    "Mr Javed\n",
    "Ms Davee\n",
    "Mrs. Robinson\n",
    "Mr. T\n",
    "\"\"\"\n",
    "\n",
    "sentence = \"Start a sentence and then bring it to an end\"\n"
   ]
  },
  {
   "cell_type": "markdown",
   "id": "cde91dd6-031c-4446-bbaf-0ac2722ddd46",
   "metadata": {},
   "source": [
    "#### Raw String:\n",
    "- A raw string in Python is a string prefixed with an r or R that tells Python to treat backslashes (\\) as literal characters, rather than escape characters.\n",
    "\n",
    "- Example:\n",
    "  `raw_string = r\"C:\\new_folder\\test\"`\n",
    "- In a raw string, \\n is not treated as a newline, but as the literal characters \\ and n."
   ]
  },
  {
   "cell_type": "code",
   "execution_count": 11,
   "id": "6933ed2c-6432-49f0-9897-605239ceaa7f",
   "metadata": {},
   "outputs": [
    {
     "name": "stdout",
     "output_type": "stream",
     "text": [
      "<re.Match object; span=(2, 5), match='abc'>\n"
     ]
    }
   ],
   "source": [
    "import re\n",
    "\n",
    "pattern =  re.compile(r\"abc\")\n",
    "\n",
    "matches  = pattern.finditer(text_to_search)\n",
    "\n",
    "for match in matches:\n",
    "    print(match)"
   ]
  },
  {
   "cell_type": "markdown",
   "id": "3a4fe25b-9f45-4d40-aa06-9598c8d12b87",
   "metadata": {},
   "source": [
    "These Charecters need to be escaped:\n",
    "\". ^ $ * + ? { } [ ] \\ | ( )\""
   ]
  },
  {
   "cell_type": "code",
   "execution_count": 10,
   "id": "ed284c87-614b-4eba-910e-d595f6a28e5f",
   "metadata": {},
   "outputs": [
    {
     "name": "stdout",
     "output_type": "stream",
     "text": [
      "<re.Match object; span=(114, 115), match='.'>\n",
      "<re.Match object; span=(150, 151), match='.'>\n",
      "<re.Match object; span=(172, 173), match='.'>\n",
      "<re.Match object; span=(176, 177), match='.'>\n",
      "<re.Match object; span=(185, 186), match='.'>\n",
      "<re.Match object; span=(214, 215), match='.'>\n",
      "<re.Match object; span=(227, 228), match='.'>\n"
     ]
    }
   ],
   "source": [
    "#example \n",
    "import re\n",
    "\n",
    "pattern =  re.compile(r\"\\.\")\n",
    "\n",
    "matches  = pattern.finditer(text_to_search)\n",
    "\n",
    "for match in matches:\n",
    "    print(match)"
   ]
  },
  {
   "cell_type": "code",
   "execution_count": null,
   "id": "177b7d0d-ad60-41d6-8ff0-0c08f6c5b2e7",
   "metadata": {},
   "outputs": [],
   "source": [
    "import re\n",
    "\n",
    "pattern =  re.compile(r\"abc\")\n",
    "\n",
    "matches  = pattern.finditer(text_to_search)\n",
    "\n",
    "for match in matches:\n",
    "    print(match)"
   ]
  },
  {
   "cell_type": "code",
   "execution_count": 21,
   "id": "1852d349-7316-4421-a310-eafd35bc5d7c",
   "metadata": {},
   "outputs": [
    {
     "name": "stdout",
     "output_type": "stream",
     "text": [
      "<re.Match object; span=(193, 216), match='wajidjaved160@gmail.com'>\n",
      "<re.Match object; span=(217, 240), match='wajid.javed@student.edu'>\n",
      "<re.Match object; span=(241, 268), match='wajid-123-javed@my-work.net'>\n"
     ]
    }
   ],
   "source": [
    "#example for emails\n",
    "import re\n",
    "\n",
    "pattern =  re.compile(r\"[a-zA-Z0-9_.+-]+@[a-zA-Z0-9-]+\\.[a-zA-Z0-9-.]+\")\n",
    "\n",
    "matches  = pattern.finditer(text_to_search)\n",
    "\n",
    "for match in matches:\n",
    "    print(match)"
   ]
  },
  {
   "cell_type": "code",
   "execution_count": 28,
   "id": "cf95e5e7-9826-4d98-a9d2-6ed5a3b462ac",
   "metadata": {},
   "outputs": [
    {
     "name": "stdout",
     "output_type": "stream",
     "text": [
      "http://www.mysite.com\n",
      "https://www.google.com\n",
      "https://youtube.com\n",
      "https://www.nasa.gov\n"
     ]
    }
   ],
   "source": [
    "#example for URLs\n",
    "import re\n",
    "\n",
    "pattern =  re.compile(r\"https?://(www\\.)?(\\w+)(\\.\\w+)\")\n",
    "\n",
    "matches  = pattern.finditer(text_to_search)\n",
    "\n",
    "for match in matches:\n",
    "    # print(match)\n",
    "    print(match.group(0))"
   ]
  },
  {
   "cell_type": "code",
   "execution_count": 35,
   "id": "a9205bd8-e90a-4a6a-9f64-62188a0fbe21",
   "metadata": {},
   "outputs": [
    {
     "name": "stdout",
     "output_type": "stream",
     "text": [
      "\n",
      "mysite.com\n",
      "google.com\n",
      "youtube.com\n",
      "nasa.gov\n"
     ]
    }
   ],
   "source": [
    "#example: for URLs\n",
    "import re\n",
    "\n",
    "subbed_urls =\"\"\"\n",
    "http://www.mysite.com\n",
    "https://www.google.com\n",
    "https://youtube.com\n",
    "https://www.nasa.gov\"\"\"\n",
    "\n",
    "pattern =  re.compile(r\"https?://(www\\.)?(\\w+)(\\.\\w+)\")\n",
    "\n",
    "matches  = pattern.sub(r\"\\2\\3\" ,subbed_urls)\n",
    "\n",
    "\n",
    "print(matches)"
   ]
  },
  {
   "cell_type": "markdown",
   "id": "08fccd02-5853-4514-8add-42b3c570996f",
   "metadata": {},
   "source": [
    "## Functional Programming:"
   ]
  },
  {
   "cell_type": "markdown",
   "id": "4837f0f9-288f-4b2e-9023-538a41560907",
   "metadata": {},
   "source": [
    "- Functional programming is a programming paradigm where programs are built by composing pure functions, avoiding shared state and mutable data. It focuses on what to solve rather than how to solve it, emphasizing immutability and higher-order functions.\n",
    "\n",
    "- Key Concepts:\n",
    "  - **Pure Functions:** Functions that always return the same output for the same input and have no side effects.\n",
    "  - **First-Class Functions:** Functions are treated as first-class citizens, meaning they can be passed as arguments or returned by other functions.\n",
    "  - **Immutability:** Data is not modified; instead, new data structures are created.\n",
    "  - **Higher-Order Functions:** Functions that take other functions as arguments or return them.\n",
    "- Python supports functional programming with tools like `map()`, `filter()`, `reduce()`, and `lambda functions`."
   ]
  },
  {
   "cell_type": "code",
   "execution_count": 1,
   "id": "6d6a0e69-3ee5-48e2-8a76-65dd9c8159db",
   "metadata": {},
   "outputs": [
    {
     "name": "stdout",
     "output_type": "stream",
     "text": [
      "Squared Numbers: [1, 4, 9, 16, 25]\n",
      "Even Numbers: [4, 16]\n"
     ]
    }
   ],
   "source": [
    "# Pure function: no side effects, same output for same input\n",
    "def square(x):\n",
    "    return x * x\n",
    "\n",
    "# List of numbers\n",
    "numbers = [1, 2, 3, 4, 5]\n",
    "\n",
    "# Using map() to apply the square function to each element\n",
    "squared_numbers = list(map(square, numbers))\n",
    "\n",
    "# Using filter() to filter out odd numbers\n",
    "even_numbers = list(filter(lambda x: x % 2 == 0, squared_numbers))\n",
    "\n",
    "print(\"Squared Numbers:\", squared_numbers)\n",
    "print(\"Even Numbers:\", even_numbers)\n"
   ]
  }
 ],
 "metadata": {
  "kernelspec": {
   "display_name": "Python 3 (ipykernel)",
   "language": "python",
   "name": "python3"
  },
  "language_info": {
   "codemirror_mode": {
    "name": "ipython",
    "version": 3
   },
   "file_extension": ".py",
   "mimetype": "text/x-python",
   "name": "python",
   "nbconvert_exporter": "python",
   "pygments_lexer": "ipython3",
   "version": "3.11.7"
  }
 },
 "nbformat": 4,
 "nbformat_minor": 5
}
