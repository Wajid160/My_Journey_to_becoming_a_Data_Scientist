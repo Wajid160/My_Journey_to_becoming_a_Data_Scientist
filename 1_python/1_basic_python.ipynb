{
 "cells": [
  {
   "cell_type": "markdown",
   "id": "818b3cbb-6968-4f6d-bd73-e588dd6ae4f8",
   "metadata": {},
   "source": [
    "##### Date: 21/Aug/2024"
   ]
  },
  {
   "cell_type": "markdown",
   "id": "9d7ecd4e-2954-4edc-9706-0e2b16ed7bd4",
   "metadata": {},
   "source": [
    "## Journey to becoming a Data Scientist"
   ]
  },
  {
   "cell_type": "markdown",
   "id": "d2ca782a-a7e5-4a42-a3c4-455e37d8d20f",
   "metadata": {},
   "source": [
    "#### Contents:\n",
    "1. Basics of Python\n",
    "   - Print Function\n",
    "   - Data Types\n",
    "   - Comments\n",
    "   - Variables\n",
    "   - Keywords & Identifiers\n",
    "   - Taking User Input\n",
    "   - Type Conversion\n",
    "   - Literals\n",
    "   - Operators\n",
    "   - If-else Statement\n",
    "   - Indentation\n",
    "   - While Loop\n",
    "   - Guessing Game\n",
    "   - The For Loop\n",
    "   - Nested Loops\n",
    "   - Break & Continue\n",
    "   - Built-in Functions\n",
    "   - Built-in Modules\n",
    "   - Strings\n",
    "     - String Indexing\n",
    "     - Editing Strings\n",
    "     - String Operations\n",
    "     - String Functions\n",
    "   - Python Lists\n",
    "   - Python Tuples\n",
    "   - Python Sets\n",
    "   - Python Dictionary\n",
    "   - Functions:\n"
   ]
  },
  {
   "cell_type": "markdown",
   "id": "fd907b15-862e-4dc4-b3b0-8a37ae6fc64a",
   "metadata": {},
   "source": [
    "## Print Function"
   ]
  },
  {
   "cell_type": "code",
   "execution_count": 74,
   "id": "2cd157d2-a4cd-483a-9444-0c36dcfe9b6e",
   "metadata": {},
   "outputs": [
    {
     "name": "stdout",
     "output_type": "stream",
     "text": [
      "Hello World\n",
      "Hello World\n",
      "Hello\n",
      "         World\n"
     ]
    }
   ],
   "source": [
    "# you can print in single, double, and triple quotations, there is no difference.\n",
    "print('Hello World')\n",
    "print(\"Hello World\")\n",
    "# triple quatation marks strings are used for multiline strings\n",
    "print(\"\"\"Hello\n",
    "         World\"\"\")"
   ]
  },
  {
   "cell_type": "code",
   "execution_count": 37,
   "id": "72aaaace-2581-40e5-9d46-007936e66db0",
   "metadata": {},
   "outputs": [
    {
     "name": "stdout",
     "output_type": "stream",
     "text": [
      "208\n",
      "<class 'int'>\n",
      "20.8\n",
      "<class 'float'>\n",
      "True\n",
      "<class 'bool'>\n",
      "Tesxt here\n",
      "<class 'str'>\n"
     ]
    }
   ],
   "source": [
    "# you can print different data types\n",
    "\n",
    "print(208) # Integer (Whole Numbers) \n",
    "print(type(208)) \n",
    "\n",
    "print(20.8) # Float (Decimal Numbers)\n",
    "print(type(20.8)) \n",
    "\n",
    "print(True) # Boolean (True or False)\n",
    "print(type(True)) \n",
    "\n",
    "print(\"Tesxt here\") # String (Sequence of Characters)\n",
    "print(type(\"Text here\")) \n",
    "\n"
   ]
  },
  {
   "cell_type": "code",
   "execution_count": 30,
   "id": "f5680553-b320-438b-bc15-62ca0d8908df",
   "metadata": {},
   "outputs": [
    {
     "name": "stdout",
     "output_type": "stream",
     "text": [
      "one two three\n",
      "1 2 3\n",
      "1.1 2.2 3.3\n",
      "a b c\n",
      "one 2 3.0 False H\n"
     ]
    }
   ],
   "source": [
    "# you can print multiple values (with same and different data types)\n",
    "\n",
    "# with same data types \n",
    "\n",
    "print(\"one\", \"two\", \"three\")\n",
    "print(1, 2, 3)\n",
    "print(1.1, 2.2, 3.3)\n",
    "print('a', 'b', 'c')\n",
    "\n",
    "\n",
    "# without same data types \n",
    "\n",
    "print(\"one\", 2, 3.0, False, 'H')\n"
   ]
  },
  {
   "cell_type": "code",
   "execution_count": 36,
   "id": "c04025f9-5767-4828-b60a-dfbc717d52b0",
   "metadata": {},
   "outputs": [
    {
     "name": "stdout",
     "output_type": "stream",
     "text": [
      "one-2-3.0-False-H\n",
      "one/2/3.0/False/H\n",
      "Hello * world\n"
     ]
    }
   ],
   "source": [
    "# there are two basic parameters in print function,\n",
    "\n",
    "# one is Seperator\n",
    "\n",
    "print(\"one\", 2, 3.0, False, 'H', sep = '-')\n",
    "print(\"one\", 2, 3.0, False, 'H', sep = '/')\n",
    "\n",
    "# another is End\n",
    "\n",
    "print(\"Hello\", end = ' * ')\n",
    "print(\"world\")\n"
   ]
  },
  {
   "cell_type": "markdown",
   "id": "bb0a4c4e-9251-4924-b90f-72ba2975021f",
   "metadata": {},
   "source": [
    "## Data Types"
   ]
  },
  {
   "cell_type": "markdown",
   "id": "08e9b756-ef61-43e2-ae78-7273c223948d",
   "metadata": {},
   "source": [
    "#### Data Types:\n",
    "- Data types define the kind of values a variable can hold.\n",
    "\n",
    "#### Categories of Data Types:\n",
    "- there are three Categories of  data types, one Basic, second Container, and third is User-defined types.\n",
    "  1. Basic Data Types: Integers, Float, Boolean, Complex, and String\n",
    "  2. Container Data Types: List, Tuple, Set, Dictionary\n",
    "  3. User-defined types, ( will discuss in OOP )"
   ]
  },
  {
   "cell_type": "markdown",
   "id": "4eca90df-d183-4e23-8169-69610bdfd937",
   "metadata": {},
   "source": [
    "#### Basic Data Types: Integers, Float, Boolean, Complex, and String"
   ]
  },
  {
   "cell_type": "code",
   "execution_count": 56,
   "id": "86178f46-960e-4095-ad2a-e7626dc2e417",
   "metadata": {},
   "outputs": [
    {
     "name": "stdout",
     "output_type": "stream",
     "text": [
      "6\n",
      "<class 'int'>\n",
      "6.13\n",
      "<class 'float'>\n",
      "True\n",
      "<class 'bool'>\n",
      "(3+7j)\n",
      "<class 'complex'>\n",
      "Hyderabad\n",
      "<class 'str'>\n"
     ]
    }
   ],
   "source": [
    "print(6)      # Integer\n",
    "print(type(6))    \n",
    "\n",
    "print(6.13)   # Float\n",
    "print(type(6.13))\n",
    "\n",
    "print(True)   # Boolean\n",
    "print(type(True))   \n",
    "\n",
    "print(3 + 7j) # Complex\n",
    "print(type(3 + 7j)) \n",
    "\n",
    "print(\"Hyderabad\") # String\n",
    "print(type(\"Hyderabad\")) "
   ]
  },
  {
   "cell_type": "markdown",
   "id": "37b59ba5-5c71-4855-8af6-7d6a947d6ee3",
   "metadata": {},
   "source": [
    "#### Container Data Types: List, Tuple, Set, Dictionary"
   ]
  },
  {
   "cell_type": "code",
   "execution_count": 42,
   "id": "f60c8f0d-8ebe-46e8-8c03-109d360862c6",
   "metadata": {},
   "outputs": [
    {
     "name": "stdout",
     "output_type": "stream",
     "text": [
      "[1, 2, 3, 4, 5]\n",
      "<class 'list'>\n",
      "(1, 2, 3, 4, 5)\n",
      "<class 'tuple'>\n",
      "{1, 2, 3, 4, 5}\n",
      "<class 'set'>\n",
      "{'key': 'value', 'name': 'wajid javed'}\n",
      "<class 'dict'>\n"
     ]
    }
   ],
   "source": [
    "print([1,2,3,4,5])\n",
    "print(type([1,2,3,4,5]))\n",
    "\n",
    "print((1,2,3,4,5))\n",
    "print(type((1,2,3,4,5)))\n",
    "\n",
    "print({1,2,3,4,5})\n",
    "print(type({1,2,3,4,5}))\n",
    "\n",
    "print({\"key\": \"value\", \"name\": \"wajid javed\"})\n",
    "print(type({\"key\": \"value\", \"name\": \"wajid javed\"}))"
   ]
  },
  {
   "cell_type": "markdown",
   "id": "be51b283-6c93-40e2-9c42-ef78aca34007",
   "metadata": {},
   "source": [
    "## Comments:"
   ]
  },
  {
   "cell_type": "markdown",
   "id": "3b620670-c0bc-4ffa-98be-19b0c27bc533",
   "metadata": {},
   "source": [
    "#### Definition: \n",
    "- A piece of code which is not executable by the compiler or interpreter\n",
    "\n",
    "#### why you write comments? \n",
    "- to understand the logic of the code, Means ( to enhance code reabability)\n",
    "\n",
    "#### How to write the COMMENTS:\n",
    "- you can write comment by using \"#\"   \n"
   ]
  },
  {
   "cell_type": "code",
   "execution_count": 55,
   "id": "f01df340-b9ec-44a2-a882-253e6bd34c02",
   "metadata": {},
   "outputs": [],
   "source": [
    "# This is COMMENT, and in python there is single line comments only.\n"
   ]
  },
  {
   "cell_type": "markdown",
   "id": "82bcf53e-ea6b-46a0-a4df-2df5233efb32",
   "metadata": {},
   "source": [
    "## Variables:"
   ]
  },
  {
   "cell_type": "markdown",
   "id": "c9fad9f5-6eee-4dec-8bd9-eeaa73df39fc",
   "metadata": {},
   "source": [
    "#### Definition:\n",
    "- A variable is a symbolic name that refers to an object. Think of it as a container that holds data values.\n",
    "\n",
    "#### Viarable Naming rules: \n",
    "- A variable name must start with a letter or the underscore character.\n",
    "- A variable name cannot start with a number.\n",
    "- A variable name can only contain alpha-numeric characters and underscores (A-z, 0-9, and _ )\n",
    "- Variable names are case-sensitive (age, Age and AGE are three different variables)\n",
    "\n",
    "*( in python you don't need to declare variable before use. )*  \n",
    "\n",
    "#### Dynamic Typing vs Static Typing:\n",
    "- In Dynamic typing you don't need to declare variable data type, it automatically detect.\n",
    "- In Static typing you have to declare variables data type.\n",
    "\n",
    "#### Dynamic binding vs Static binding:\n",
    "- In Dynamic binding, when a variable can store multiple data types.\n",
    "- In Static binding, when a variable cannot store multiple data types.\n"
   ]
  },
  {
   "cell_type": "code",
   "execution_count": 57,
   "id": "4a760f15-724a-41c8-8235-35d5e87762c2",
   "metadata": {},
   "outputs": [
    {
     "name": "stdout",
     "output_type": "stream",
     "text": [
      "Wajid Javed 23\n",
      "Harry13\n",
      "135\n",
      "78.3\n",
      "3 4 5 6\n",
      "3 4 5 6\n"
     ]
    }
   ],
   "source": [
    "#  Creating variables\n",
    "\n",
    "Name = \"Wajid Javed\"\n",
    "Height = 5.11\n",
    "is_student = True\n",
    "Age = 23\n",
    "\n",
    "# Variable naming rules:\n",
    "\n",
    "_price = 2395\n",
    "random = 16\n",
    "Random = 34.55\n",
    "\n",
    "# Dynamic Typing vs Static Typing:\n",
    "\n",
    "name = \"Wajid Javed\"\n",
    "age = 23\n",
    "print(name, age)\n",
    "\n",
    "# Dynamic binding vs Static binding:\n",
    "\n",
    "code = \"Harry13\"\n",
    "print(code)\n",
    "code = 135\n",
    "print(code)\n",
    "code = 78.3\n",
    "print(code)\n",
    "\n",
    "# Special syntax: for declaring multiple variables at once.\n",
    "a = 3; b = 4; c = 5; d = 6\n",
    "print(a,b,c,d)\n",
    "\n",
    "# another, which is easier\n",
    "A,B,C,D = 3,4,5,6\n",
    "print(A,B,C,D)\n"
   ]
  },
  {
   "cell_type": "markdown",
   "id": "c34b0559-9bf6-4254-ac38-a16e863e52b8",
   "metadata": {},
   "source": [
    "## Keywords and Identifiers:"
   ]
  },
  {
   "cell_type": "markdown",
   "id": "7d86a9e2-fe76-4524-b276-2e35f2bc1313",
   "metadata": {},
   "source": [
    "#### Keywords:\n",
    "- In programming, a keyword is a word that is reserved by a program because the word has a special meaning. Keywords can be commands or parameters. Every programming language has a set of keywords that cannot be used as a variable names.\n",
    "- In python there are 33 keywords, you can see, by using command \"import keyword\" then write \"print(keyword.kwlist)\"\n",
    "\n",
    "  "
   ]
  },
  {
   "cell_type": "code",
   "execution_count": 52,
   "id": "dd88a6a6-b884-470a-a61d-b12f6b54136f",
   "metadata": {},
   "outputs": [
    {
     "name": "stdout",
     "output_type": "stream",
     "text": [
      "['False', 'None', 'True', 'and', 'as', 'assert', 'async', 'await', 'break', 'class', 'continue', 'def', 'del', 'elif', 'else', 'except', 'finally', 'for', 'from', 'global', 'if', 'import', 'in', 'is', 'lambda', 'nonlocal', 'not', 'or', 'pass', 'raise', 'return', 'try', 'while', 'with', 'yield']\n"
     ]
    }
   ],
   "source": [
    "# Keywords\n",
    "import keyword\n",
    "print(keyword.kwlist)"
   ]
  },
  {
   "cell_type": "markdown",
   "id": "045ad73c-c86a-4ea0-b767-9dc1dd772f87",
   "metadata": {},
   "source": [
    "#### Identifiers:\n",
    "- A python Identifier is a name used to identify a variable, function, class, module or other object.\n",
    "\n",
    "#### Rules for setting Identifiers:\n",
    "- can only start with an alphabet or underscore (_)\n",
    "- followed by 0 or more letter, underscore (_) and digits\n",
    "- keywords cannot be used as an Identifiers"
   ]
  },
  {
   "cell_type": "code",
   "execution_count": 62,
   "id": "9e20d1a0-75ca-43c6-ab0b-74ad71378cc1",
   "metadata": {},
   "outputs": [
    {
     "name": "stdout",
     "output_type": "stream",
     "text": [
      "87 91\n",
      "underscore\n"
     ]
    },
    {
     "data": {
      "text/plain": [
       "'Mathematics'"
      ]
     },
     "execution_count": 62,
     "metadata": {},
     "output_type": "execute_result"
    }
   ],
   "source": [
    "# rules for setting Identifiers\n",
    "Marks = 87\n",
    "_marks = 91\n",
    "print(Marks, _marks)\n",
    "\n",
    "_ = \"underscore\"\n",
    "print(_)\n",
    "\n",
    "subject3 = \"Mathematics\"\n",
    "(subject3)"
   ]
  },
  {
   "cell_type": "markdown",
   "id": "9813f8aa-d008-403a-92b3-517b7cd9a582",
   "metadata": {},
   "source": [
    "## Taking User Input:"
   ]
  },
  {
   "cell_type": "code",
   "execution_count": 66,
   "id": "48e585b7-5b60-44aa-84c9-9935e26ddd94",
   "metadata": {},
   "outputs": [
    {
     "name": "stdin",
     "output_type": "stream",
     "text": [
      "Enter your Name:  wajid\n"
     ]
    },
    {
     "name": "stdout",
     "output_type": "stream",
     "text": [
      "Hello wajid\n"
     ]
    },
    {
     "name": "stdin",
     "output_type": "stream",
     "text": [
      "Enter a number:  45\n"
     ]
    },
    {
     "name": "stdout",
     "output_type": "stream",
     "text": [
      "<class 'str'>\n"
     ]
    }
   ],
   "source": [
    "# input function by default takes input as an string.\n",
    "# we use input() keyword for user input\n",
    "name = input(\"Enter your Name: \")\n",
    "print(\"Hello\", name)\n",
    "\n",
    "num = input(\"Enter a number: \")\n",
    "print(type(num))"
   ]
  },
  {
   "cell_type": "markdown",
   "id": "b20c10f4-8fd6-477b-8f79-d8c8adb8d940",
   "metadata": {},
   "source": [
    "## Type Conversion:"
   ]
  },
  {
   "cell_type": "markdown",
   "id": "d77cecff-0e41-4f46-9005-0962d0b2be9b",
   "metadata": {},
   "source": [
    "#### Type conversion:\n",
    "- Type conversion in Python is the process of converting one data type to another.\n",
    "- There are two main types of type conversion:\r\n",
    "\r\n",
    "1. **Implicit Type Conversion**: This is automatically performed by the Python interpreter. For example, when you add an integer and a float, Python automatically converts the integer to a float to avoid data loss>\r\n",
    "    ```\r\n",
    "\r\n",
    "2. **Explicit Type Conversion**: This is manually performed by the user using built-in functions like `int()`, `float()`, `str()`, etc. This is also known as type cc-basics/python-type-conversion/."
   ]
  },
  {
   "cell_type": "code",
   "execution_count": 71,
   "id": "e9c8faea-36ff-4e76-9ed5-9cfbf238be5f",
   "metadata": {},
   "outputs": [
    {
     "name": "stdout",
     "output_type": "stream",
     "text": [
      "33.65 <class 'float'>\n"
     ]
    },
    {
     "data": {
      "text/plain": [
       "str"
      ]
     },
     "execution_count": 71,
     "metadata": {},
     "output_type": "execute_result"
    }
   ],
   "source": [
    "# Implicit Type Conversion\n",
    "\n",
    "num1 = 20    # integer\n",
    "num2 = 13.65 # float\n",
    "sum = num1 + num2\n",
    "print(sum, type(sum)) # float\n",
    "\n",
    "# Explicit Type Conversion\n",
    "\n",
    "val = \"23\" # string\n",
    "num = 12   # integer\n",
    "add = int(val) + num # changing it's data type, as an integer\n",
    "add\n",
    "\n",
    "# in python, type conversion creates a copy of that variable then change it's data type. means original variable data type will be same.\n",
    "type(val)\n"
   ]
  },
  {
   "cell_type": "markdown",
   "id": "8baa3260-ca00-4020-b3ac-fd00e9d428ce",
   "metadata": {},
   "source": [
    "## Literals:"
   ]
  },
  {
   "cell_type": "markdown",
   "id": "c4ed8572-6994-4ea6-92c7-8e4dc189e432",
   "metadata": {},
   "source": [
    "#### Literals:\n",
    "- Literal is a raw data given in a variable.\n",
    "    *(jab aap variable ko koye value dete ho, ussi ko Literal bola jata hai)* \n",
    "- In python there are four types of literals, they are as follows.\n",
    "  - Numeric Literals\n",
    "  - String Literals\n",
    "  - Boolean Literals\n",
    "  - Special Literals  "
   ]
  },
  {
   "cell_type": "markdown",
   "id": "7bc847a8-266e-4d60-a168-8b841fa18565",
   "metadata": {},
   "source": [
    "#### 1. Numeric Literals:"
   ]
  },
  {
   "cell_type": "code",
   "execution_count": 75,
   "id": "b9a8744b-b090-4770-9da2-587d867b0456",
   "metadata": {},
   "outputs": [
    {
     "name": "stdout",
     "output_type": "stream",
     "text": [
      "10 100 200 300\n",
      "10.5 340.0 0.001277\n",
      "(3.14+7j) 7.0 3.14\n"
     ]
    }
   ],
   "source": [
    "a = 0b1010 # Binary Literals\n",
    "b = 100    # Decimal Literals\n",
    "c = 0o310  # Octal Literals\n",
    "d = 0x12c  # Hexadecimal Literals\n",
    "\n",
    "# Float Literals\n",
    "float_1 = 10.5\n",
    "float_2 = 3.4e2\n",
    "float_3 = 12.77e-4\n",
    "\n",
    "# Complex Literals\n",
    "x = 3.14 + 7j\n",
    "\n",
    "print(a,b,c,d)\n",
    "print(float_1,float_2,float_3)\n",
    "print(x, x.imag, x.real)"
   ]
  },
  {
   "cell_type": "markdown",
   "id": "c4a45603-231e-4972-a1ca-24738bcd82cc",
   "metadata": {},
   "source": [
    "#### 2. String Literals:"
   ]
  },
  {
   "cell_type": "code",
   "execution_count": 82,
   "id": "52c038ea-9327-4344-bf41-0c95e6a8cc7a",
   "metadata": {},
   "outputs": [
    {
     "name": "stdout",
     "output_type": "stream",
     "text": [
      "This is Python\n",
      "This is Python\n",
      "W\n",
      " this is multiline string with more than one line of code,\n",
      "😀\n",
      "raw \\n string\n"
     ]
    }
   ],
   "source": [
    "string = 'This is Python'\n",
    "strings = \"This is Python\"\n",
    "char = 'W'\n",
    "multiline_str = \"\"\" this is multiline string with more than one line of code,\"\"\"\n",
    "unicode = u\"\\U0001f600\"\n",
    "raw_str = r\"raw \\n string\"\n",
    "\n",
    "print(string)\n",
    "print(strings)\n",
    "print(char)\n",
    "print(multiline_str)\n",
    "print(unicode)\n",
    "print(raw_str)"
   ]
  },
  {
   "cell_type": "markdown",
   "id": "e6d00918-fb3d-4e03-b444-bb3ae8e8121b",
   "metadata": {},
   "source": [
    "#### 3. Boolean:"
   ]
  },
  {
   "cell_type": "code",
   "execution_count": 84,
   "id": "2b795af4-0137-4834-ab1c-43d683185c30",
   "metadata": {},
   "outputs": [
    {
     "name": "stdout",
     "output_type": "stream",
     "text": [
      "5 10\n"
     ]
    }
   ],
   "source": [
    "a = True + 4\n",
    "b = False + 10\n",
    "\n",
    "print(a, b)"
   ]
  },
  {
   "cell_type": "markdown",
   "id": "a2dd4ef0-556d-4d5b-8ba0-8d85069c3101",
   "metadata": {},
   "source": [
    "#### 4. Special Literal:"
   ]
  },
  {
   "cell_type": "code",
   "execution_count": 87,
   "id": "1859aad4-c6d7-4100-b24f-ca569e1c0ddb",
   "metadata": {},
   "outputs": [
    {
     "name": "stdout",
     "output_type": "stream",
     "text": [
      "None\n"
     ]
    }
   ],
   "source": [
    "# None is absence of anything, it's kind of variable declaration. \n",
    "a = None\n",
    "print(a)"
   ]
  },
  {
   "cell_type": "markdown",
   "id": "c8937bda-60fa-4131-b882-5cb15e968e82",
   "metadata": {},
   "source": [
    "## Operators:"
   ]
  },
  {
   "cell_type": "markdown",
   "id": "1a788b7d-500d-4833-a8b7-3273af80021e",
   "metadata": {},
   "source": [
    "#### Operators:\n",
    "- Operators are used to perform operations on variables and values.\n",
    "- Python has the following operators:\n",
    "  - Arithmetic operators\n",
    "  - Comparision operators\n",
    "  - Logical operators\n",
    "  - Bitwise operators\n",
    "  - Assignment operators\n",
    "  - Identity operators\n",
    "  - Membership operators"
   ]
  },
  {
   "cell_type": "markdown",
   "id": "0966274c-675a-4430-a6ac-407486cf3972",
   "metadata": {},
   "source": [
    "#### Arithmetic operators:\n",
    "- arithmetic operators are used to perform common mathematical operations.\n",
    "  - Addition (+): Adds two operands.\n",
    "  - Subtraction (-): Subtracts the second operand from the first.\n",
    "  - Multiplication (*): Multiplies two operands.\n",
    "  - Division (/): Divides the first operand by the second.\n",
    "  - Modulus (%): Returns the remainder when the first operand is divided by the second.\n",
    "  - Exponentiation (**): Raises the first operand to the power of the second.\n",
    "  - Floor Division (//): Divides the first operand by the second and returns the largest integer less than or equal to the result. - lo the result"
   ]
  },
  {
   "cell_type": "code",
   "execution_count": 89,
   "id": "c072b684-4728-4070-b66f-65ecbdd2b673",
   "metadata": {},
   "outputs": [
    {
     "name": "stdout",
     "output_type": "stream",
     "text": [
      "7\n",
      "3\n",
      "10\n",
      "2.5\n",
      "1\n",
      "25\n",
      "2\n"
     ]
    }
   ],
   "source": [
    "x = 5\n",
    "y = 2\n",
    "\n",
    "print(x+y)  # Addition (+)\n",
    "print(x-y)  # Subtraction (-)\n",
    "print(x*y)  # Multiplication (*)\n",
    "print(x/y)  # Division (/)\n",
    "print(x%y)  # Modulus (%)\n",
    "print(x**y) # Exponentiation (**)\n",
    "print(x//y) # Floor Division (//):\n"
   ]
  },
  {
   "cell_type": "markdown",
   "id": "c8a90dce-a808-41fb-83d2-a84ffc262a25",
   "metadata": {},
   "source": [
    "#### Comparision Operators: *Relational Operators*\n",
    "- comparison operators are used to compare two values.\n",
    "  - Equal to (==): Returns True if both operands are equal.\n",
    "  - Not Equal to (!=): Returns True if operands are not equal.\n",
    "  - Greater than (>): Returns True if the left operand is greater than the right.\n",
    "  - Less than (<): Returns True if the left operand is less than the right.\n",
    "  - Greater than or Equal to (>=): Returns True if left operand is greater than or equal to the right.\n",
    "  - Less than or Equal to (<=): Returns True if left operand is less than or equal to the right.\n",
    "    \r\n",
    " <= 10) # Output: True"
   ]
  },
  {
   "cell_type": "code",
   "execution_count": 90,
   "id": "b3886b91-4c30-41e1-bf01-2ec41eefef4c",
   "metadata": {},
   "outputs": [
    {
     "name": "stdout",
     "output_type": "stream",
     "text": [
      "False\n",
      "True\n",
      "True\n",
      "False\n",
      "True\n",
      "False\n"
     ]
    }
   ],
   "source": [
    "a = 4\n",
    "b = 3\n",
    "\n",
    "print(a == b)  # Equal to (==)\n",
    "print(a != b)  # Not Equal to (!=)\n",
    "print(a > b)   # Greater than (>)\n",
    "print(a < b)   # Less than (<)\n",
    "print(a >= b)  # Greater than or Equal to (>=)\n",
    "print(a <= b)  # Less than or Equal to (<=)"
   ]
  },
  {
   "cell_type": "markdown",
   "id": "16f97ed8-b006-497f-a4e6-755530441630",
   "metadata": {},
   "source": [
    "#### Logical Operators:\n",
    "- used to combine multiple conditions together and evaluate them as a single boolean expression.\n",
    "- there are three operators\n",
    "  - AND\n",
    "  - OR\n",
    "  - NOT\n"
   ]
  },
  {
   "cell_type": "code",
   "execution_count": 95,
   "id": "e2a31e72-8639-474f-97e9-236a3e6784b0",
   "metadata": {},
   "outputs": [
    {
     "name": "stdout",
     "output_type": "stream",
     "text": [
      "False\n",
      "True\n",
      "False\n"
     ]
    }
   ],
   "source": [
    "c = True\n",
    "d = False\n",
    "\n",
    "print(c and d) # returns True, when both values are True, else False\n",
    "print(c or d)  # returns True, when atleast one of them is True, else False.\n",
    "print(not c)   # returns True if it is False, returns False if it is True, means returns opposite of the actual value."
   ]
  },
  {
   "cell_type": "markdown",
   "id": "cfac9045-79dc-44aa-9fad-0b41c0fa8adb",
   "metadata": {},
   "source": [
    "#### Bitwise operators:\n",
    "- Python bitwise operators are used to perform bitwise calculations on integers. The integers are converted into binary format and then operations are performed bit by bit."
   ]
  },
  {
   "cell_type": "code",
   "execution_count": 99,
   "id": "f18f75f4-4550-459f-8d24-be9a3438a4e0",
   "metadata": {},
   "outputs": [
    {
     "name": "stdout",
     "output_type": "stream",
     "text": [
      "2\n",
      "3\n",
      "0\n",
      "24\n",
      "-3\n"
     ]
    }
   ],
   "source": [
    "# example\n",
    "x = 2\n",
    "y = 3\n",
    "print(x & y) # AND operators returns 2\n",
    "# it's because,it is converting these values into binary numbers, then performs operations.\n",
    "# like 2 is in binary 010 and three is 011, by performing & operation\n",
    "# it returns, 010 which is equal to 2 in decimals (integers)\n",
    "\n",
    "# OR (|) operator\n",
    "print(x | y) # returns three\n",
    "\n",
    "# Right Shift (>>) and Left Shift (<<) and once compliment (~)\n",
    "print(x >> 2)\n",
    "print(y << 3)\n",
    "print(~x)"
   ]
  },
  {
   "cell_type": "markdown",
   "id": "a8ff102a-d980-44c8-8149-57f204e0310a",
   "metadata": {},
   "source": [
    "#### Assignment Operators:\n",
    "- Assignment operators in Python are used to assign values to variables.\n",
    "  - Operator Assignment (=)\n",
    "  - Operator Addition (+=)\n",
    "  - Operator Subtraction (-=)\n",
    "  - Operator Multiplication (*=)\n",
    "  - Operator Division (/=)\n",
    "  - Operator Modulus (%=)\n",
    "  - Operator Exponentiation (**=)\n",
    "  - Operator Floor Division (//=)"
   ]
  },
  {
   "cell_type": "code",
   "execution_count": 100,
   "id": "4866c426-6646-4d9d-b648-e3e49ef29d8c",
   "metadata": {},
   "outputs": [
    {
     "name": "stdout",
     "output_type": "stream",
     "text": [
      "4\n",
      "10\n",
      "20\n"
     ]
    }
   ],
   "source": [
    "num = 4\n",
    "print(num)\n",
    "num += 6\n",
    "print(num)\n",
    "num *= 2\n",
    "print(num)"
   ]
  },
  {
   "cell_type": "markdown",
   "id": "df3c1a63-d8a9-4151-8508-20b9276d1cca",
   "metadata": {},
   "source": [
    "#### Identity Operator:\n",
    "- identity operators are used to compare the memory locations of two objects. There are two identity operators:\n",
    " - is Operator:r: This operator returns True if both variables point to the same object in memor\n",
    " - .\r\n",
    "is not Operator: This operator returns True if both variables do not point to the same object in memory."
   ]
  },
  {
   "cell_type": "code",
   "execution_count": 103,
   "id": "14a60477-9f47-4ad5-a5f4-a8b0e06275f4",
   "metadata": {},
   "outputs": [
    {
     "name": "stdout",
     "output_type": "stream",
     "text": [
      "True\n",
      "False\n",
      "True\n",
      "False\n",
      "True\n"
     ]
    }
   ],
   "source": [
    "# if both has same value it does not mean that they are on the same location.\n",
    "# (is) operator says, that are both values on same location or not?\n",
    "a = 23\n",
    "b = 23\n",
    "print(a is b)\n",
    "\n",
    "a = [1,2,3]\n",
    "b = [1,2,3]\n",
    "print(a is b)\n",
    "\n",
    "x = [1, 2, 3]\n",
    "y = x\n",
    "z = [1, 2, 3]\n",
    "\n",
    "print(x is y)  # True, because y is assigned to the same object as x\n",
    "print(x is z)  # False, because z is a different object with the same content\n",
    "print(x is not z)  # True, because x and z are different objects\n"
   ]
  },
  {
   "cell_type": "markdown",
   "id": "1ce178cf-2a65-4852-8bb0-896e773ad768",
   "metadata": {},
   "source": [
    "#### Membership operators:\n",
    "- In Python, membership operators allow you to check whether a sequence is present in an object or not.\n",
    "- There are two types of membership operators:\n",
    "\r\n",
    "1. **`in`**: Returns `True` if a sequence with the specified value is present in the object.\r\n",
    "2. **`not in`**: Returns `True` if a sequence with the specified value is **not** present in the objectoperators-not-not/."
   ]
  },
  {
   "cell_type": "code",
   "execution_count": 104,
   "id": "da3769b7-77bc-4c34-b77d-c5c8820c587f",
   "metadata": {},
   "outputs": [
    {
     "name": "stdout",
     "output_type": "stream",
     "text": [
      "True\n",
      "True\n"
     ]
    }
   ],
   "source": [
    "my_list = [1, 2, 3, 4]\n",
    "print(3 in my_list)  # Output: True\n",
    "print(5 not in my_list)  # Output: True"
   ]
  },
  {
   "cell_type": "markdown",
   "id": "552644d2-18b8-45ac-924c-be69aed3cf6f",
   "metadata": {},
   "source": [
    "## If-else Statements: (Conditioonal Statements)"
   ]
  },
  {
   "cell_type": "markdown",
   "id": "14179ded-835b-4631-a988-0680c2cb82b5",
   "metadata": {},
   "source": [
    "- In Python, conditional statements are used to execute a block of code only when certain conditions are met. \n",
    "- The if statement is the most basic form of conditional execution, where a block of code is executed if the condition evaluates to True 1."
   ]
  },
  {
   "cell_type": "code",
   "execution_count": 118,
   "id": "b6e3f2fd-8e17-49c9-811a-6913ba4d5af0",
   "metadata": {},
   "outputs": [
    {
     "name": "stdout",
     "output_type": "stream",
     "text": [
      "x is positive\n",
      "x is negative or zero\n",
      "B\n",
      "Positive number\n"
     ]
    }
   ],
   "source": [
    "#Example of Basic if Statement\n",
    "\n",
    "x = 10\n",
    "if x > 0:\n",
    "    print('x is positive')\n",
    "#In this example, the condition x > 0 is True, so the print statement within the if block is executed.\n",
    "\n",
    "\n",
    "x = -5\n",
    "if x > 0:\n",
    "    print('x is positive')\n",
    "else:\n",
    "    print('x is negative or zero')\n",
    "#Here, since x is not greater than 0, the condition evaluates to False, and the code within the else block is executed.\n",
    "\n",
    "\n",
    "score = 75\n",
    "if score >= 90:\n",
    "    grade = 'A'\n",
    "elif score >= 75:\n",
    "    grade = 'B'\n",
    "elif score >= 65:\n",
    "    grade = 'C'\n",
    "else:\n",
    "    grade = 'F'\n",
    "print(grade)\n",
    "#This code assigns a grade based on a score. Since the score is 75, it meets the second condition and assigns grade 'B'.\n",
    "\n",
    "\n",
    "num = 5\n",
    "if num >= 0:\n",
    "    if num == 0:\n",
    "        print('Zero')\n",
    "    else:\n",
    "        print('Positive number')\n",
    "else:\n",
    "    print('Negative number')\n",
    "#In this nested example, since num is greater than 0, it checks the inner condition and prints 'Positive number'."
   ]
  },
  {
   "cell_type": "markdown",
   "id": "f97e6a87-f580-4090-bcfd-7bfc93d66b18",
   "metadata": {},
   "source": [
    "#"
   ]
  },
  {
   "cell_type": "markdown",
   "id": "0c215f03-ff58-498b-af27-f9e735422076",
   "metadata": {},
   "source": [
    "## Indentation:\n",
    "-  It is used to define the scope and grouping of code statements, such as those within functions, loops, and conditionals."
   ]
  },
  {
   "cell_type": "code",
   "execution_count": 122,
   "id": "7bd3a809-0e17-407d-b66e-2ba0b9177ef0",
   "metadata": {},
   "outputs": [
    {
     "name": "stdout",
     "output_type": "stream",
     "text": [
      "X is greater than 0\n",
      "it's not sixteen\n",
      "code completed\n"
     ]
    }
   ],
   "source": [
    "x = 15\n",
    "if x > 0:\n",
    "    # This is the first block of code\n",
    "    print(\"X is greater than 0\")\n",
    "    if x == 16 :\n",
    "        # This is a nested block of code\n",
    "        print(\"It's sixteen\")\n",
    "    else:\n",
    "        # This is another nested block of code\n",
    "        print(\"it's not sixteen\")\n",
    "# This is outside the if-else block\n",
    "print(\"code completed\")"
   ]
  },
  {
   "cell_type": "markdown",
   "id": "22c1eef8-6399-4c03-bf14-a8c3c6a920e3",
   "metadata": {},
   "source": [
    "## While Loop:"
   ]
  },
  {
   "cell_type": "markdown",
   "id": "8c7cf626-5b03-43ff-9ba0-92e8b256d2c6",
   "metadata": {},
   "source": [
    "- a while loop is used to repeatedly execute a block of code as long as a given condition is true."
   ]
  },
  {
   "cell_type": "code",
   "execution_count": 1,
   "id": "1585f935-1eb9-41e8-b996-ab97134f0870",
   "metadata": {},
   "outputs": [
    {
     "name": "stdin",
     "output_type": "stream",
     "text": [
      "Enter Table Number:  5\n"
     ]
    },
    {
     "name": "stdout",
     "output_type": "stream",
     "text": [
      "5 x 1  =  5\n",
      "5 x 2  =  10\n",
      "5 x 3  =  15\n",
      "5 x 4  =  20\n",
      "5 x 5  =  25\n",
      "5 x 6  =  30\n",
      "5 x 7  =  35\n",
      "5 x 8  =  40\n",
      "5 x 9  =  45\n",
      "5 x 10  =  50\n"
     ]
    }
   ],
   "source": [
    "x = int(input(\"Enter Table Number: \"))\n",
    "i = 1\n",
    "while i <= 10:\n",
    "    print(x, \"x\",i, \" = \", x*i)\n",
    "    i += 1"
   ]
  },
  {
   "cell_type": "markdown",
   "id": "a3c24257-0707-4fc7-8fa9-788a8a934ff0",
   "metadata": {},
   "source": [
    "## Guessing Game:"
   ]
  },
  {
   "cell_type": "code",
   "execution_count": 2,
   "id": "2e9ff13d-8387-46c8-8bba-897bd2abc4c2",
   "metadata": {},
   "outputs": [],
   "source": [
    "# for generating random numbers we import a random library, where we use random.randint() function.\n",
    "import random"
   ]
  },
  {
   "cell_type": "code",
   "execution_count": 4,
   "id": "2daedebf-b017-4785-b703-39e35dad0d1a",
   "metadata": {},
   "outputs": [
    {
     "name": "stdin",
     "output_type": "stream",
     "text": [
      "Guess the number.  65\n"
     ]
    },
    {
     "name": "stdout",
     "output_type": "stream",
     "text": [
      "Guess lower\n"
     ]
    },
    {
     "name": "stdin",
     "output_type": "stream",
     "text": [
      "Guess the number.  50\n"
     ]
    },
    {
     "name": "stdout",
     "output_type": "stream",
     "text": [
      "Guess higher\n"
     ]
    },
    {
     "name": "stdin",
     "output_type": "stream",
     "text": [
      "Guess the number.  60\n"
     ]
    },
    {
     "name": "stdout",
     "output_type": "stream",
     "text": [
      "Guess lower\n"
     ]
    },
    {
     "name": "stdin",
     "output_type": "stream",
     "text": [
      "Guess the number.  57\n"
     ]
    },
    {
     "name": "stdout",
     "output_type": "stream",
     "text": [
      "Guess higher\n"
     ]
    },
    {
     "name": "stdin",
     "output_type": "stream",
     "text": [
      "Guess the number.  58\n"
     ]
    },
    {
     "name": "stdout",
     "output_type": "stream",
     "text": [
      "Guess higher\n"
     ]
    },
    {
     "name": "stdin",
     "output_type": "stream",
     "text": [
      "Guess the number.  59\n"
     ]
    },
    {
     "name": "stdout",
     "output_type": "stream",
     "text": [
      "You Guess Right. \n",
      "you took 6 attempts. \n"
     ]
    }
   ],
   "source": [
    "# guessing game code\n",
    "jackpot = random.randint(1, 100)\n",
    "guess = int(input(\"Guess the number. \"))\n",
    "counter = 1\n",
    "\n",
    "while guess != jackpot:\n",
    "    if guess < jackpot:\n",
    "        print(\"Guess higher\")\n",
    "    else:\n",
    "        print(\"Guess lower\")\n",
    "    guess = int(input(\"Guess the number. \"))    \n",
    "    counter += 1\n",
    "\n",
    "print(\"You Guess Right. \")\n",
    "print(\"you took\", counter, \"attempts. \")"
   ]
  },
  {
   "cell_type": "markdown",
   "id": "c4a2a7cc-8b5b-464c-a60a-3dcd1eb9b19f",
   "metadata": {},
   "source": [
    "## For Loop:"
   ]
  },
  {
   "cell_type": "markdown",
   "id": "f80afe4e-e244-4c67-9166-d532e193937d",
   "metadata": {},
   "source": [
    "- A for loop is used to iterate over a sequence such as a list, tuple, dictionary, set, or string.\n",
    "ments"
   ]
  },
  {
   "cell_type": "code",
   "execution_count": null,
   "id": "9e9571e3-779f-4437-b2be-c869bbda9095",
   "metadata": {},
   "outputs": [],
   "source": [
    "#Basic Syntax\n",
    "\n",
    "#The basic syntax of a for loop in Python is as follows:\n",
    "for item in iterable:\n",
    "    # execute statements\n",
    "    "
   ]
  },
  {
   "cell_type": "markdown",
   "id": "dfeb3d70-16e3-4fba-9d8f-7f7135bfc803",
   "metadata": {},
   "source": [
    "- Here, iterable can be any object that can return its elements one at a time, such as lists, tuples, strings, etc. The item variable takes the value of the next element in iterable with each iteration of the loop"
   ]
  },
  {
   "cell_type": "code",
   "execution_count": 10,
   "id": "137e9f8b-4ce6-4476-8c52-e8ba49619275",
   "metadata": {},
   "outputs": [
    {
     "name": "stdout",
     "output_type": "stream",
     "text": [
      "apple\n",
      "banana\n",
      "cherry\n",
      "\n",
      "\n",
      "one\n",
      "two\n",
      "three\n"
     ]
    }
   ],
   "source": [
    "#Example with List\n",
    "\n",
    "#Let's look at an example where we iterate over a list of fruits:\n",
    "\n",
    "fruits = [\"apple\", \"banana\", \"cherry\"]\n",
    "for fruit in fruits:\n",
    "    print(fruit)\n",
    "\n",
    "#Looping Through a Dictionary\n",
    "\n",
    "#When looping through a dictionary, you can retrieve keys, values, or key-value pairs:\n",
    "print(\"\\n\")\n",
    "count = {\"one\": 1, \"two\": 2, \"three\": 3}\n",
    "for i in count:\n",
    "    print(i)"
   ]
  },
  {
   "cell_type": "markdown",
   "id": "d89b9748-2e9a-43d7-9b79-b2ab62b0d159",
   "metadata": {},
   "source": [
    "### Range function:"
   ]
  },
  {
   "cell_type": "markdown",
   "id": "09caad26-fb56-4400-8875-8689696cbee6",
   "metadata": {},
   "source": [
    "- The `range()` function in Python is used to generate a sequence of numbers. It's commonly used in loops to iterate over a sequence of numbers.\n",
    "- Here’s a quick overview of how it works:\r\n",
    "\r\n",
    "### Syntax\r\n",
    "```python\r\n",
    "range(start, stop, step)\r\n",
    "```\r\n",
    "\r\n",
    "### Parameters\r\n",
    "- **start** (optional): The starting value of the sequence. Default is 0.\r\n",
    "- **stop** (required): The end value of the sequence (not included in the sequence).\r\n",
    "- **step** (optional): The difference between each number in the sequence. Defatorial.net/python-basics/python-for-range/."
   ]
  },
  {
   "cell_type": "code",
   "execution_count": 13,
   "id": "84369265-1024-4803-aca6-8e17e0b0d144",
   "metadata": {},
   "outputs": [
    {
     "name": "stdout",
     "output_type": "stream",
     "text": [
      "0\n",
      "1\n",
      "2\n",
      "3\n",
      "4\n"
     ]
    }
   ],
   "source": [
    "# Examples\n",
    "\n",
    "#Basic Usage\n",
    " \n",
    "for i in range(5):\n",
    "    print(i)        #This will print numbers from 0 to 4.\n"
   ]
  },
  {
   "cell_type": "code",
   "execution_count": 14,
   "id": "a433085c-75f8-4733-b91c-12157b81126d",
   "metadata": {},
   "outputs": [
    {
     "name": "stdout",
     "output_type": "stream",
     "text": [
      "3\n",
      "4\n",
      "5\n",
      "6\n",
      "7\n"
     ]
    }
   ],
   "source": [
    "\n",
    "#Specifying Start and Stop:\n",
    "\n",
    "for i in range(3, 8):\n",
    "    print(i)        #This will print numbers from 3 to 7.\n",
    "\n"
   ]
  },
  {
   "cell_type": "code",
   "execution_count": 15,
   "id": "38e6c46a-2fa0-402a-82df-4419d1578b13",
   "metadata": {},
   "outputs": [
    {
     "name": "stdout",
     "output_type": "stream",
     "text": [
      "2\n",
      "4\n",
      "6\n",
      "8\n"
     ]
    }
   ],
   "source": [
    "#Specifying Start, Stop, and Step:\n",
    "\n",
    "for i in range(2, 10, 2):\n",
    "    print(i)        #This will print 2, 4, 6, and 8.\n"
   ]
  },
  {
   "cell_type": "markdown",
   "id": "f9806a0c-3584-4ca4-84a8-6374b24263f7",
   "metadata": {},
   "source": [
    "## Nested Loops:"
   ]
  },
  {
   "cell_type": "markdown",
   "id": "cf3c430e-9c4d-4d64-a993-2f8bc0f87430",
   "metadata": {},
   "source": [
    "- A nested loop in Python is a loop inside another loop. The “inner loop” will execute completely for each iteration of the “outer loop.” This structure is useful for working with multi-dimensional data structures, such as lists of lists, or for tasks that require multiple levels of iteration."
   ]
  },
  {
   "cell_type": "code",
   "execution_count": 19,
   "id": "61fc96ce-52aa-4cfa-b193-739ac2ea4eac",
   "metadata": {},
   "outputs": [
    {
     "name": "stdin",
     "output_type": "stream",
     "text": [
      "Enter number of Rows.  10\n"
     ]
    },
    {
     "name": "stdout",
     "output_type": "stream",
     "text": [
      "* \n",
      "* * \n",
      "* * * \n",
      "* * * * \n",
      "* * * * * \n",
      "* * * * * * \n",
      "* * * * * * * \n",
      "* * * * * * * * \n",
      "* * * * * * * * * \n",
      "* * * * * * * * * * \n"
     ]
    }
   ],
   "source": [
    "rows = int(input(\"Enter number of Rows. \"))\n",
    "\n",
    "for i in range(1, rows+1):\n",
    "    for j in range(0, i):\n",
    "        print(\"*\", end = \" \")\n",
    "    print(\"\")    "
   ]
  },
  {
   "cell_type": "markdown",
   "id": "8a2dac01-0386-46f3-b5dc-02fef1f95c83",
   "metadata": {},
   "source": [
    "## Break, Continue, and Pass Statements:"
   ]
  },
  {
   "cell_type": "markdown",
   "id": "e8333512-be3c-4f65-b37c-324a93830b1c",
   "metadata": {},
   "source": [
    "#### Break Statement:\n",
    "- The break statement in Python is used to terminate the execution of a loop prematurely when a certain condition is met. It can be used in both for and while loops. When the break statement is encountered, the loop stops immediately, and the program continues with the next statement after the loop."
   ]
  },
  {
   "cell_type": "code",
   "execution_count": 30,
   "id": "49ee35da-76c6-4fdc-8f85-f8892575a067",
   "metadata": {},
   "outputs": [
    {
     "name": "stdout",
     "output_type": "stream",
     "text": [
      "0\n",
      "1\n",
      "2\n",
      "3\n",
      "4\n"
     ]
    }
   ],
   "source": [
    "for i in range(10):\n",
    "    if i == 5:\n",
    "        break\n",
    "    print(i)"
   ]
  },
  {
   "cell_type": "markdown",
   "id": "d0784d10-7ed6-4529-89b8-9c5623b5c950",
   "metadata": {},
   "source": [
    "#### Continue Statement:\n",
    "- the continue statement is used within a loop to skip the current iteration and move on to the next one. It effectively jumps back to the loop's start, bypassing the remaining code block for that particular iteration."
   ]
  },
  {
   "cell_type": "code",
   "execution_count": 32,
   "id": "1203e8c3-8842-4121-b4d3-8a3e760755bb",
   "metadata": {},
   "outputs": [
    {
     "name": "stdout",
     "output_type": "stream",
     "text": [
      "0\n",
      "1\n",
      "2\n",
      "4\n"
     ]
    }
   ],
   "source": [
    "for i in range(5):\n",
    "    if i == 3:\n",
    "        continue\n",
    "    print(i)\n",
    "        "
   ]
  },
  {
   "cell_type": "markdown",
   "id": "305384b5-fac3-417e-9d88-679dc66f5732",
   "metadata": {},
   "source": [
    "#### Pass Statement:\n",
    "- The pass statement in Python is a null operation used as a placeholder in your code. It allows you to write syntactically correct code without executing any action. This can be particularly useful in situations where you haven’t yet written the code but want to maintain the structure of your program."
   ]
  },
  {
   "cell_type": "code",
   "execution_count": 35,
   "id": "8c737854-b83c-4bae-a301-6a6f33252841",
   "metadata": {},
   "outputs": [
    {
     "name": "stdout",
     "output_type": "stream",
     "text": [
      "x is not 3\n"
     ]
    }
   ],
   "source": [
    "# example 01:\n",
    "# using in loops,\n",
    "for i in range(10):\n",
    "    pass\n",
    "\n",
    "#example 02:\n",
    "# using in if-else statements,\n",
    "x = 4\n",
    "if x == 3:\n",
    "    pass\n",
    "else:\n",
    "    print(\"x is not 3\")\n"
   ]
  },
  {
   "cell_type": "markdown",
   "id": "97f30ac2-9120-4521-b4bc-8d3f56d6bc40",
   "metadata": {},
   "source": [
    "## Built-in Functions:"
   ]
  },
  {
   "cell_type": "markdown",
   "id": "06499411-9b92-40b5-b123-9bcc66b41dfc",
   "metadata": {},
   "source": [
    "- built-in functions are pre-defined functions that come bundled with the language. You can use them directly in your Python programs without importing external libraries. These functions provide essential and commonly used functionality for various tasks, such as data type conversion, mathematical operations, string manipulation, file operations, and more\n",
    "- bellow are some most usable built-in functions."
   ]
  },
  {
   "cell_type": "markdown",
   "id": "a373a53c-6ece-43aa-8496-38583953d4b3",
   "metadata": {},
   "source": [
    "- **print(objects, sep=' ', end='\\n', file=sys.stdout, flush=False):** Prints objects to the text stream file."
   ]
  },
  {
   "cell_type": "code",
   "execution_count": 41,
   "id": "81f69877-b9cc-4341-827f-6ade89a3e196",
   "metadata": {},
   "outputs": [
    {
     "name": "stdout",
     "output_type": "stream",
     "text": [
      "Hello, World!\n",
      "The answer is 42\n"
     ]
    }
   ],
   "source": [
    "# Example 1: Printing a simple string\n",
    "print(\"Hello, World!\")\n",
    "\n",
    "# Example 2: Printing multiple values separated by a space\n",
    "print(\"The answer is\", 42)"
   ]
  },
  {
   "cell_type": "markdown",
   "id": "642eb435-173d-47a2-b1ee-a7b3299427fe",
   "metadata": {},
   "source": [
    "- **input([prompt]):** Reads a string from standard input."
   ]
  },
  {
   "cell_type": "code",
   "execution_count": 40,
   "id": "fa209d10-cceb-49df-9618-ecbbf9f515a3",
   "metadata": {},
   "outputs": [
    {
     "name": "stdin",
     "output_type": "stream",
     "text": [
      "Enter your name:  wajid\n"
     ]
    },
    {
     "name": "stdout",
     "output_type": "stream",
     "text": [
      "Hello, wajid!\n"
     ]
    }
   ],
   "source": [
    "name = input(\"Enter your name: \")\n",
    "print(f\"Hello, {name}!\")\n"
   ]
  },
  {
   "cell_type": "markdown",
   "id": "67b8904c-5bae-4d86-9fea-87b0d5752b1f",
   "metadata": {},
   "source": [
    "- **abs(x)**: Returns the absolute value of a number."
   ]
  },
  {
   "cell_type": "code",
   "execution_count": 43,
   "id": "82aa5757-2430-45b9-844b-65745b2e288a",
   "metadata": {},
   "outputs": [
    {
     "name": "stdout",
     "output_type": "stream",
     "text": [
      "5\n"
     ]
    }
   ],
   "source": [
    "result = abs(-5)\n",
    "print(result)  # Output: 5\n"
   ]
  },
  {
   "cell_type": "markdown",
   "id": "f125d326-3892-42fd-9e82-fe95f516a0c7",
   "metadata": {},
   "source": [
    "- **bin(x)/oct(x)/hex(x)**: Converts an integer to a binary/octal/hexadecimal string."
   ]
  },
  {
   "cell_type": "code",
   "execution_count": 44,
   "id": "f5287094-b8bf-424d-81bc-25d1b9976db0",
   "metadata": {},
   "outputs": [
    {
     "name": "stdout",
     "output_type": "stream",
     "text": [
      "0b1010\n",
      "0o12\n",
      "0xa\n"
     ]
    }
   ],
   "source": [
    "binary = bin(10)\n",
    "octal = oct(10)\n",
    "hexadecimal = hex(10)\n",
    "print(binary)       # Output: '0b1010'\n",
    "print(octal)        # Output: '0o12'\n",
    "print(hexadecimal)  # Output: '0xa'"
   ]
  },
  {
   "cell_type": "markdown",
   "id": "b2fcb896-2f9f-4ed9-a027-5bb41d637556",
   "metadata": {},
   "source": [
    "- **divmod(a, b)**: Returns a tuple of the quotient and remainder when dividing a by b."
   ]
  },
  {
   "cell_type": "code",
   "execution_count": 45,
   "id": "10ecdc38-1268-4699-8aa0-c96cff208493",
   "metadata": {},
   "outputs": [
    {
     "name": "stdout",
     "output_type": "stream",
     "text": [
      "3 1\n"
     ]
    }
   ],
   "source": [
    "quotient, remainder = divmod(10, 3)\n",
    "print(quotient, remainder)  # Output: 3 1"
   ]
  },
  {
   "cell_type": "markdown",
   "id": "0fc85f56-3dc9-469b-817b-87942043bada",
   "metadata": {},
   "source": [
    "- **int(x)/float(x)/etc**: Converts a number or string to an int/floating-point number."
   ]
  },
  {
   "cell_type": "code",
   "execution_count": 46,
   "id": "c4a1c1a4-076a-4697-8a48-1957e8d711d0",
   "metadata": {},
   "outputs": [
    {
     "name": "stdout",
     "output_type": "stream",
     "text": [
      "123\n",
      "123.45\n"
     ]
    }
   ],
   "source": [
    "number = int(\"123\")\n",
    "decimal = float(\"123.45\")\n",
    "print(number)  # Output: 123\n",
    "print(decimal) # Output: 123.45"
   ]
  },
  {
   "cell_type": "markdown",
   "id": "2bd31f8d-0b5f-476f-85ed-445b174206a5",
   "metadata": {},
   "source": [
    "- **help([object])**: Invokes the built-in help system."
   ]
  },
  {
   "cell_type": "code",
   "execution_count": 47,
   "id": "e6b71146-80d9-4136-a5c4-8788e2991428",
   "metadata": {},
   "outputs": [
    {
     "name": "stdout",
     "output_type": "stream",
     "text": [
      "Help on built-in function print in module builtins:\n",
      "\n",
      "print(*args, sep=' ', end='\\n', file=None, flush=False)\n",
      "    Prints the values to a stream, or to sys.stdout by default.\n",
      "    \n",
      "    sep\n",
      "      string inserted between values, default a space.\n",
      "    end\n",
      "      string appended after the last value, default a newline.\n",
      "    file\n",
      "      a file-like object (stream); defaults to the current sys.stdout.\n",
      "    flush\n",
      "      whether to forcibly flush the stream.\n",
      "\n"
     ]
    }
   ],
   "source": [
    "help(print)  # Displays help information for the print function."
   ]
  },
  {
   "cell_type": "markdown",
   "id": "2e089c50-4d1c-4113-a5f2-dbd1e4772598",
   "metadata": {},
   "source": [
    "- **id(object)**: Returns the identity of an object."
   ]
  },
  {
   "cell_type": "code",
   "execution_count": 48,
   "id": "be93ced4-85b3-4803-907c-5ccb663583ff",
   "metadata": {},
   "outputs": [
    {
     "name": "stdout",
     "output_type": "stream",
     "text": [
      "2696998540144\n"
     ]
    }
   ],
   "source": [
    "obj = \"Hello\"\n",
    "print(id(obj))  # Output: (an integer representing the object's memory address)"
   ]
  },
  {
   "cell_type": "markdown",
   "id": "39d26f88-e153-45d9-9950-d228ef193f7f",
   "metadata": {},
   "source": [
    "- **sum(iterable, /, start=0)**: Sums the items of an iterable."
   ]
  },
  {
   "cell_type": "code",
   "execution_count": 55,
   "id": "e6793875-f799-4f46-a032-261cbfa0756b",
   "metadata": {},
   "outputs": [
    {
     "name": "stdout",
     "output_type": "stream",
     "text": [
      "15\n"
     ]
    }
   ],
   "source": [
    "total = sum([1, 2, 3, 4, 5])\n",
    "print(total)  # Output: 15"
   ]
  },
  {
   "cell_type": "markdown",
   "id": "f7aab01a-a0a5-4f46-924d-682ac850912c",
   "metadata": {},
   "source": [
    "- **len(s)**: Returns the length of an object."
   ]
  },
  {
   "cell_type": "code",
   "execution_count": 49,
   "id": "b97983fc-8729-4ba4-9fee-6c8299717090",
   "metadata": {},
   "outputs": [
    {
     "name": "stdout",
     "output_type": "stream",
     "text": [
      "5\n"
     ]
    }
   ],
   "source": [
    "length = len(\"Hello\")\n",
    "print(length)  # Output: 5"
   ]
  },
  {
   "cell_type": "markdown",
   "id": "be14a777-e67a-47ac-bd97-9db7dfac631b",
   "metadata": {},
   "source": [
    "- **min/max(iterable, *[, key, default])***: Returns the smallest/largest item in an iterable."
   ]
  },
  {
   "cell_type": "code",
   "execution_count": 50,
   "id": "b937d4b5-6873-4fe1-8e20-1a479b153227",
   "metadata": {},
   "outputs": [
    {
     "name": "stdout",
     "output_type": "stream",
     "text": [
      "1\n",
      "5\n"
     ]
    }
   ],
   "source": [
    "smallest = min([3, 1, 4, 1, 5])\n",
    "largest = max([3, 1, 4, 1, 5])\n",
    "print(smallest)  # Output: 1\n",
    "print(largest)   # Output: 5"
   ]
  },
  {
   "cell_type": "markdown",
   "id": "5b39782a-b52d-4d77-87b8-e1eb311d5954",
   "metadata": {},
   "source": [
    "- **ord(c)**: Returns the Unicode code point for a single character."
   ]
  },
  {
   "cell_type": "code",
   "execution_count": 51,
   "id": "ffb4b545-bb63-4eee-8642-e9d99f58caaf",
   "metadata": {},
   "outputs": [
    {
     "name": "stdout",
     "output_type": "stream",
     "text": [
      "65\n"
     ]
    }
   ],
   "source": [
    "code_point = ord('A')\n",
    "print(code_point)  # Output: 65"
   ]
  },
  {
   "cell_type": "markdown",
   "id": "b855091e-d5b3-410a-8baa-09b5cd747283",
   "metadata": {},
   "source": [
    "- **pow(x, y[, z])**: Returns x to the power of y, modulo z if present."
   ]
  },
  {
   "cell_type": "code",
   "execution_count": 52,
   "id": "76b2d6b8-6dad-4a85-a2f7-44c3ff795cbb",
   "metadata": {},
   "outputs": [
    {
     "name": "stdout",
     "output_type": "stream",
     "text": [
      "8\n",
      "2\n"
     ]
    }
   ],
   "source": [
    "result = pow(2, 3)       # 2^3\n",
    "mod_result = pow(2, 3, 3) # (2^3) % 3\n",
    "print(result)      # Output: 8\n",
    "print(mod_result)  # Output: 2"
   ]
  },
  {
   "cell_type": "markdown",
   "id": "d2333a30-21e9-477a-a948-ac8dedd2dc16",
   "metadata": {},
   "source": [
    "- **round(number[, ndigits])**: Rounds a number to a given precision in decimal digits."
   ]
  },
  {
   "cell_type": "code",
   "execution_count": 53,
   "id": "5db36ca1-538c-467d-80f6-95dc475aa684",
   "metadata": {},
   "outputs": [
    {
     "name": "stdout",
     "output_type": "stream",
     "text": [
      "3.14\n"
     ]
    }
   ],
   "source": [
    "rounded_value = round(3.14159, 2)\n",
    "print(rounded_value)  # Output: 3.14"
   ]
  },
  {
   "cell_type": "markdown",
   "id": "ce63454e-50d6-4a46-95ac-23114405dd54",
   "metadata": {},
   "source": [
    "- **type(object)**: Returns the type of an object."
   ]
  },
  {
   "cell_type": "code",
   "execution_count": 54,
   "id": "447dcc84-8175-4ec1-8bd1-29eed16fef6d",
   "metadata": {},
   "outputs": [
    {
     "name": "stdout",
     "output_type": "stream",
     "text": [
      "<class 'int'>\n"
     ]
    }
   ],
   "source": [
    "obj_type = type(123)\n",
    "print(obj_type)  # Output: <class 'int'>"
   ]
  },
  {
   "cell_type": "markdown",
   "id": "dabdb4e1-bfaa-4ae3-8ca8-662122abdf4f",
   "metadata": {},
   "source": [
    "## Built-in Modules:"
   ]
  },
  {
   "cell_type": "markdown",
   "id": "d25a37c0-9c22-43ff-b96a-1c90de93aecb",
   "metadata": {},
   "source": [
    "- Python built-in modules are a set of libraries that come pre-installed with the Python installation.\n",
    "- A file containing a set of functions you want to include in your application.\n",
    "- Examples of Python Modules\n",
    "  - math\n",
    "  - random\n",
    "  - os\n",
    "  - time\n",
    "  - and many more"
   ]
  },
  {
   "cell_type": "markdown",
   "id": "14fac39f-3bcd-4918-b4d0-d341dd9cc89c",
   "metadata": {},
   "source": [
    "#### Math Module:"
   ]
  },
  {
   "cell_type": "markdown",
   "id": "798eff63-6d5f-4065-a54d-78c6d75e9d8f",
   "metadata": {},
   "source": [
    "- The Python math module provides a wide range of mathematical functions that are essential for performing calculations in various applications.\n",
    "- This module is part of the standard Python library and includes functions for arithmetic, logarithmic, trigonometric, and other mathematical operations.fied base."
   ]
  },
  {
   "cell_type": "code",
   "execution_count": 64,
   "id": "7eaac065-ef72-4201-b04e-9be4cb427658",
   "metadata": {},
   "outputs": [],
   "source": [
    "import math\n",
    "\n",
    "# Calculate the factorial of 5\n",
    "factorial_of_5 = math.factorial(5)\n",
    "\n",
    "# Compute 2 raised to the power of 3\n",
    "power_result = math.pow(2, 3)\n",
    "\n",
    "# Calculate the logarithm of 100 to base 10\n",
    "log_result = math.log(100, 10)"
   ]
  },
  {
   "cell_type": "markdown",
   "id": "a6087839-6492-418a-94da-02bf56442331",
   "metadata": {},
   "source": [
    "#### Random Module:"
   ]
  },
  {
   "cell_type": "markdown",
   "id": "c3c86921-d70b-4c1d-9c1e-f422f41cfb9b",
   "metadata": {},
   "source": [
    "- It allows you to generate random numbers and perform random-based operations in your programs.\n",
    "- It includes various functions for generating pseudo-random numbers, which can be used in applications like simulations, game development, and cryptographic tasks.\n",
    "- Some of the methods provided by the `random` module include:\n",
    "  - `randrange()`: Returns a random number within a given range.\n",
    "  - `randint()`: Returns a random integer within a specified range.\n",
    "  - `choice()`: Selects a random element from a sequence.\n",
    "  - `shuffle()`: Randomly reorders a sequence.\n",
    "  - `uniform()`: Generates a random float between two given parameters.\n",
    "  - And more!\n"
   ]
  },
  {
   "cell_type": "code",
   "execution_count": 61,
   "id": "06177a4a-9924-4db9-a0bc-cfcdf2374f10",
   "metadata": {},
   "outputs": [
    {
     "name": "stdout",
     "output_type": "stream",
     "text": [
      "3\n"
     ]
    }
   ],
   "source": [
    "import random\n",
    "\n",
    "# Generate a random integer between 1 and 10\n",
    "random_integer = random.randint(1, 10)\n",
    "print(random_integer)"
   ]
  },
  {
   "cell_type": "markdown",
   "id": "131634c6-8465-4c04-91ed-2df387b51b53",
   "metadata": {},
   "source": [
    "#### Time Module:"
   ]
  },
  {
   "cell_type": "markdown",
   "id": "077c3553-5f69-4026-a68e-5379763411a5",
   "metadata": {},
   "source": [
    "- The `time` module in Python provides various time-related functions.\n",
    "- Here are some key features and functions:\r\n",
    "\r\n",
    "1. **Time Representation**:\r\n",
    "   - **Epoch**: The starting point for time calculations, typically January 1, 1970, 00:00:00 (UTC).\r\n",
    "   - **Seconds since the epoch**: Time is often represented as the number of seconds elapsed since the epoch.\r\n",
    "\r\n",
    "2. **Functions**:\r\n",
    "   - `time.time()`: Returns the current time in seconds since the epoch as a floating point number.\r\n",
    "   - `time.sleep(seconds)`: Suspends execution for the given number of seconds.\r\n",
    "   - `time.gmtime([secs])`: Converts a time expressed in seconds since the epoch to a `struct_time` in UTC.\r\n",
    "   - `time.localtime([secs])`: Converts a time expressed in seconds since the epoch to a `struct_time` in local time.\r\n",
    "   - `time.strftime(format[, t])`: Converts a `struct_time` to a string according to a format specification.\r\n",
    "   - `time.strptime(string, format)`: Parses a string representing a time according to a format.\r\n",
    "\r\n",
    "3. **Performance Measurement**:\r\n",
    "   - `time.perf_counter()`: Returns the value of a performance counter, useful for benchmarking.\r\n",
    "   - `time.process_time()`: Returns the sum of the system and user CPU time of the current process.\r\n",
    "\r\n",
    "4. **Time Zones and Daylight Saving Time**:\r\n",
    "   - The module also handles time zones and daylight savinns/mastering-time-overview/."
   ]
  },
  {
   "cell_type": "code",
   "execution_count": 65,
   "id": "87e95900-b4fe-4c01-ae19-97a602d47a16",
   "metadata": {},
   "outputs": [
    {
     "name": "stdout",
     "output_type": "stream",
     "text": [
      "Current time in seconds since the epoch: 1724311688.5112934\n"
     ]
    }
   ],
   "source": [
    "import time\n",
    "\n",
    "current_time = time.time()\n",
    "print(\"Current time in seconds since the epoch:\", current_time)"
   ]
  },
  {
   "cell_type": "code",
   "execution_count": 66,
   "id": "9432f58b-a854-4dd9-83b1-aad977019b88",
   "metadata": {},
   "outputs": [
    {
     "name": "stdout",
     "output_type": "stream",
     "text": [
      "Printed immediately.\n",
      "Printed after 2.4 seconds.\n"
     ]
    }
   ],
   "source": [
    "print(\"Printed immediately.\")\n",
    "time.sleep(2.4)\n",
    "print(\"Printed after 2.4 seconds.\")"
   ]
  },
  {
   "cell_type": "markdown",
   "id": "59f9978e-08b2-4a40-99b1-d745ee466c23",
   "metadata": {},
   "source": [
    "#### OS Module:"
   ]
  },
  {
   "cell_type": "markdown",
   "id": "66fa295f-87ef-473a-bafa-84ef86afccff",
   "metadata": {},
   "source": [
    "- The Python OS module provides a way of using operating system dependent functionality. It includes functions for creating and removing a directory (folder), fetching its contents, changing and identifying the current directory, etc."
   ]
  },
  {
   "cell_type": "code",
   "execution_count": 67,
   "id": "df4a46c9-8006-4277-a8c0-0372094930f4",
   "metadata": {},
   "outputs": [
    {
     "name": "stdout",
     "output_type": "stream",
     "text": [
      "Current working directory: C:\\Users\\wajid\\Journey to becoming a Data Scientist 2024-Aug-19\n"
     ]
    }
   ],
   "source": [
    "# To get the current working directory, os.getcwd() is used.\n",
    "\n",
    "import os\n",
    "cwd = os.getcwd()\n",
    "print(\"Current working directory:\", cwd)"
   ]
  },
  {
   "cell_type": "markdown",
   "id": "99184a1f-d4e7-439c-a949-fefa0e9dd174",
   "metadata": {},
   "source": [
    "## Strings:"
   ]
  },
  {
   "cell_type": "markdown",
   "id": "7b01591b-4ea1-4948-b829-9e7fd75eebe6",
   "metadata": {},
   "source": [
    "- In Python, a **string** is a sequence of characters.\n",
    "- These characters can be letters, numbers, symbols, or whitespace, and they are enclosed within either single (`'`) or double (`\"`) quotes.\n",
    "- Strings are a Immutable Data Type.\n",
    "- Strings are used to represent text data and are essential for various operations in Python.\n",
    "- Here are some key points about strings:\r",
    "hon.org/3/library/string.html."
   ]
  },
  {
   "cell_type": "markdown",
   "id": "e52e88a3-50dc-4a94-92d8-c5e037588480",
   "metadata": {},
   "source": [
    "**1. Creating Strings:**\n",
    "   - You can create a string by enclosing characters in quotes. For example:\n",
    "     - `'hello'` or `\"hello\"` represent the same string.\n",
    "   - You can also use triple quotes (`'''` or `\"\"\"`) for multiline strings."
   ]
  },
  {
   "cell_type": "code",
   "execution_count": 1,
   "id": "ad411cbc-e657-445f-b215-9dbc5448d888",
   "metadata": {},
   "outputs": [
    {
     "name": "stdout",
     "output_type": "stream",
     "text": [
      "hello hello hello\n"
     ]
    }
   ],
   "source": [
    "a = 'hello'\n",
    "b = \"hello\"\n",
    "c = \"\"\"hello\"\"\"\n",
    "print(a,b,c)"
   ]
  },
  {
   "cell_type": "markdown",
   "id": "c05e6480-90bb-45e6-bf44-88b9455baac6",
   "metadata": {},
   "source": [
    "**2. Accessing Substrings from a String:**\n",
    "- *\r\n",
    "   - Strings are like arrays of bytes representing Unicode charers.\r\n",
    "   - Use square brackets to access individual characters within aring.\r\n",
    "   - Example: If `a = \"Hello, World!\"`, then `a[1]` gives you the character at position 1 (remember that the first charposition 0)hon.org/3/library/string.html."
   ]
  },
  {
   "cell_type": "code",
   "execution_count": 5,
   "id": "92ed1f2a-ca20-414a-9582-0a46eefa4ea4",
   "metadata": {},
   "outputs": [
    {
     "name": "stdout",
     "output_type": "stream",
     "text": [
      "e\n"
     ]
    }
   ],
   "source": [
    "a = \"Hello, World!\"\n",
    "print(a[1])"
   ]
  },
  {
   "cell_type": "markdown",
   "id": "45ec7977-3095-4203-aa38-a1aba4393769",
   "metadata": {},
   "source": [
    "#### Understanding Indexing and Slicing in Python:\n",
    "- In Python, indexing and slicing are vital concepts that allow you to access and manipulate sequences like strings, lists, and tuples efficiently.tly."
   ]
  },
  {
   "cell_type": "markdown",
   "id": "1da8146a-2103-43db-9648-90c5c83cf99f",
   "metadata": {},
   "source": [
    "##### **Indexing in Python:**\n",
    "- Indexing refers to accessing individual elements of a sequence.\n",
    "- In Python, indexing starts at 0, meaning the first element is at index 0, the second at index 1, and so on.\n",
    "- To access an element, you use square brackets [] with the index number. For example:"
   ]
  },
  {
   "cell_type": "code",
   "execution_count": 6,
   "id": "617032e5-9b0f-470e-a11d-4722f5b215cc",
   "metadata": {},
   "outputs": [
    {
     "name": "stdout",
     "output_type": "stream",
     "text": [
      "apple\n",
      "banana\n"
     ]
    }
   ],
   "source": [
    "my_list = ['apple', 'banana', 'cherry', 'date']\n",
    "print(my_list[0]) # Outputs: 'apple'\n",
    "print(my_list[1]) # Outputs: 'banana'"
   ]
  },
  {
   "cell_type": "markdown",
   "id": "817361f8-30d1-4708-9080-56862d4f2421",
   "metadata": {},
   "source": [
    "- Negative indexing is also possible, where -1 refers to the last element, -2 to the second last, and so on:"
   ]
  },
  {
   "cell_type": "code",
   "execution_count": 8,
   "id": "61b635e9-a0f3-4eef-b987-025fc5676dbb",
   "metadata": {},
   "outputs": [
    {
     "name": "stdout",
     "output_type": "stream",
     "text": [
      "date\n",
      "cherry\n"
     ]
    }
   ],
   "source": [
    "print(my_list[-1]) # Outputs: 'date'\n",
    "print(my_list[-2]) # Outputs: 'cherry'"
   ]
  },
  {
   "cell_type": "markdown",
   "id": "3f248447-a7b7-4133-b1ff-e3ea53f2b6e3",
   "metadata": {},
   "source": [
    "##### **Slicing in Python:**\n",
    "- Slicing allows you to access a range of elements within a sequence.\n",
    "- The syntax for slicing is sequence[start_index:end_index], where start_index is inclusive and end_index is exclusive.\n",
    "- If you omit start_index, it defaults to 0, and omitting end_index defaults to the length of the sequence.\n",
    "- You can also specify a step to skip elements within the range.\n",
    "- Here's an example:"
   ]
  },
  {
   "cell_type": "code",
   "execution_count": 15,
   "id": "788b2519-01bc-4129-a3c5-30f8500e4f6d",
   "metadata": {},
   "outputs": [
    {
     "name": "stdout",
     "output_type": "stream",
     "text": [
      "Hell\n",
      "llo World\n",
      "Hell\n",
      "Hello World\n",
      "lo\n",
      "HlW\n",
      "\n",
      "Wr\n",
      "dlroW olleH\n",
      "dlro\n"
     ]
    }
   ],
   "source": [
    "r = \"Hello World\"\n",
    "print(r[0:4])\n",
    "print(r[2:])\n",
    "print(r[:4])\n",
    "print(r[:])\n",
    "print(r[2:6:2])\n",
    "print(r[0:8:3])\n",
    "print(r[0:6:-1]) # empty\n",
    "print(r[-5:-1:2])\n",
    "print(r[::-1])   # reverse the string\n",
    "print(r[-1:-5:-1])\n"
   ]
  },
  {
   "cell_type": "code",
   "execution_count": 9,
   "id": "4d64eba8-5ce3-478c-ba7e-36d9a8435484",
   "metadata": {},
   "outputs": [
    {
     "name": "stdout",
     "output_type": "stream",
     "text": [
      "['banana', 'cherry']\n",
      "['apple', 'banana']\n",
      "['cherry', 'date']\n",
      "['apple', 'cherry']\n"
     ]
    }
   ],
   "source": [
    "print(my_list[1:3]) # Outputs: ['banana', 'cherry']\n",
    "print(my_list[:2]) # Outputs: ['apple', 'banana']\n",
    "print(my_list[2:]) # Outputs: ['cherry', 'date']\n",
    "print(my_list[::2]) # Outputs: ['apple', 'cherry']"
   ]
  },
  {
   "cell_type": "markdown",
   "id": "79853188-ef1c-4ef5-9a6c-52324c1eb783",
   "metadata": {},
   "source": [
    "**3. Editing and Deleting Strings:**\n",
    "- you cannot edit, add or delete characters into a string\n",
    "- you can reassign values to strings\n"
   ]
  },
  {
   "cell_type": "code",
   "execution_count": 19,
   "id": "b05ed4cc-1b35-4856-b79f-a2680cae5a6c",
   "metadata": {},
   "outputs": [],
   "source": [
    "#q = \"Hello World\"\n",
    "# these all commands going to through errors.\n",
    "#print(q[2] = 'f')\n",
    "#q[5] = 'e'\n",
    "\n",
    "#del q[2]\n",
    "#del q[:3:2]"
   ]
  },
  {
   "cell_type": "markdown",
   "id": "928865cc-8aea-4fda-a406-36c53dbdfd44",
   "metadata": {},
   "source": [
    "**4. String Operations:**\n",
    "- Operators on Strings:\n",
    "  - Arithmetic Operations\n",
    "  - Relational Operations\n",
    "  - Logical Operations\n",
    "  - Loops Strings\n",
    "  - Membership Operations"
   ]
  },
  {
   "cell_type": "markdown",
   "id": "a6f082fd-8c1f-4288-949d-a0043c4b5c2e",
   "metadata": {},
   "source": [
    "**Arithmetic Operations:**\n",
    "- you can only perform addition and Multiplication operations."
   ]
  },
  {
   "cell_type": "code",
   "execution_count": 23,
   "id": "a702db97-e44f-4994-8be6-7911e4e9123e",
   "metadata": {},
   "outputs": [
    {
     "name": "stdout",
     "output_type": "stream",
     "text": [
      "Hello-World \n",
      " #####\n"
     ]
    }
   ],
   "source": [
    "add = \"Hello\" + \"-\" + \"World\"\n",
    "mult = (\"#\" * 5)\n",
    "print(add,\"\\n\", mult)"
   ]
  },
  {
   "cell_type": "markdown",
   "id": "969f8624-83be-46ae-9572-21031b48d103",
   "metadata": {},
   "source": [
    "**Relational Operations:**\n",
    "- here we can use, *(==, !=, >, <,etc)*"
   ]
  },
  {
   "cell_type": "code",
   "execution_count": 26,
   "id": "3103ad48-b4cd-4cec-a745-8f03bb40e27e",
   "metadata": {},
   "outputs": [
    {
     "name": "stdout",
     "output_type": "stream",
     "text": [
      "False\n",
      "False\n"
     ]
    }
   ],
   "source": [
    "eq = \"Hello\" == \"World\" # returns False\n",
    "print(eq)\n",
    "com = \"Hello\" > \"World\" # returns False\n",
    "print(com) \n",
    "# it's comparing \"Lexiographically\", means, jo cheez phele aaye gi dictionary me wo choti hogi or baad me baddi, or small letters chotte hote hain capitals se."
   ]
  },
  {
   "cell_type": "markdown",
   "id": "bee806de-ae54-4b02-941b-bf3ba81eb64b",
   "metadata": {},
   "source": [
    "**Logical Operations:**\n",
    "- python takes an empty string as False, and other strings as True"
   ]
  },
  {
   "cell_type": "code",
   "execution_count": 32,
   "id": "979d164a-9295-4ec6-8850-13e2df61d10d",
   "metadata": {},
   "outputs": [
    {
     "name": "stdout",
     "output_type": "stream",
     "text": [
      "\n",
      "World\n"
     ]
    }
   ],
   "source": [
    "a = \"Hello\" and \"World\"\n",
    "b = \"\" and \"World\"\n",
    "# it's checking that, is both True, so it sees first \"Hello\" then see's \"wWrld\", \n",
    "# on seeing \"World\" it confirms that Now condition is True, that why it prints, last string (World)\n",
    "print(b) # prints empty\n",
    "print(a)"
   ]
  },
  {
   "cell_type": "code",
   "execution_count": 34,
   "id": "6747c016-cde5-4915-8384-7a77d4bd6432",
   "metadata": {},
   "outputs": [
    {
     "name": "stdout",
     "output_type": "stream",
     "text": [
      "Hello \n",
      " Hello \n",
      " \n"
     ]
    }
   ],
   "source": [
    "x = \"Hello\" or \"World\"\n",
    "y = \"Hello\" or \"\"\n",
    "z = \"\" or \"\"\n",
    "# Here it see's \"Hello\", and condition become True, so that's why it prints first term (Hello)\n",
    "print(x ,\"\\n\", y,\"\\n\" , z)"
   ]
  },
  {
   "cell_type": "code",
   "execution_count": 39,
   "id": "eb64b557-43e9-4a95-8b89-2df55e5d5087",
   "metadata": {},
   "outputs": [
    {
     "name": "stdout",
     "output_type": "stream",
     "text": [
      "True\n"
     ]
    },
    {
     "data": {
      "text/plain": [
       "False"
      ]
     },
     "execution_count": 39,
     "metadata": {},
     "output_type": "execute_result"
    }
   ],
   "source": [
    "f = not \"\" # returns True\n",
    "print(f)\n",
    "g = not \"Hello\" # returns False\n",
    "g"
   ]
  },
  {
   "cell_type": "markdown",
   "id": "d48cd256-2ee2-4607-a337-caaad1f7bb51",
   "metadata": {},
   "source": [
    "**Loops Strings:**"
   ]
  },
  {
   "cell_type": "code",
   "execution_count": 40,
   "id": "d03f4fbd-569f-4de5-bd72-c64d32dab744",
   "metadata": {},
   "outputs": [
    {
     "name": "stdout",
     "output_type": "stream",
     "text": [
      "H\n",
      "e\n",
      "l\n",
      "l\n",
      "o\n",
      " \n",
      "W\n",
      "o\n",
      "r\n",
      "l\n",
      "d\n"
     ]
    }
   ],
   "source": [
    "c = \"Hello World\"\n",
    "for i in c:\n",
    "    print(i)"
   ]
  },
  {
   "cell_type": "markdown",
   "id": "75c81e95-65c3-411f-91fb-64519dc7c7c4",
   "metadata": {},
   "source": [
    "**Membership Operations:**"
   ]
  },
  {
   "cell_type": "code",
   "execution_count": 43,
   "id": "41da1956-071d-478d-bfd0-f8a0845b12ec",
   "metadata": {},
   "outputs": [
    {
     "name": "stdout",
     "output_type": "stream",
     "text": [
      "False\n",
      "True\n"
     ]
    },
    {
     "data": {
      "text/plain": [
       "False"
      ]
     },
     "execution_count": 43,
     "metadata": {},
     "output_type": "execute_result"
    }
   ],
   "source": [
    "k = 'h' in c # checking is small  h is in \"c\"\n",
    "print(k)\n",
    "l = \"H\" in c\n",
    "print(l)\n",
    "z = 'W' not in c\n",
    "z"
   ]
  },
  {
   "cell_type": "markdown",
   "id": "561f8958-6424-467d-a00c-196b9c064692",
   "metadata": {},
   "source": [
    "**5. String Functions:**\n",
    "- Common Functions:\n",
    "  - len()\n",
    "  - max()\n",
    "  - min()\n",
    "  - sorted"
   ]
  },
  {
   "cell_type": "code",
   "execution_count": 48,
   "id": "11a7a597-ea77-43f1-bcd4-4f42a36d4d0d",
   "metadata": {},
   "outputs": [
    {
     "name": "stdout",
     "output_type": "stream",
     "text": [
      "9\n",
      "y\n",
      "a\n",
      "['a', 'a', 'b', 'd', 'd', 'e', 'h', 'r', 'y']\n",
      "['y', 'r', 'h', 'e', 'd', 'd', 'b', 'a', 'a']\n"
     ]
    }
   ],
   "source": [
    "r = \"hyderabad\"\n",
    "print(len(r))\n",
    "print(max(r))\n",
    "print(min(r))\n",
    "print(sorted(r))\n",
    "print(sorted(r, reverse = True))"
   ]
  },
  {
   "cell_type": "markdown",
   "id": "b3dc9c44-f1a0-40eb-b320-1e56efb2473f",
   "metadata": {},
   "source": [
    "**These functions are applicable on Strings:**\n",
    "- **1. Capitaliza, Title, Upper, Lower, Swapcase**"
   ]
  },
  {
   "cell_type": "code",
   "execution_count": 55,
   "id": "69f17fa6-f768-4f8a-9902-48a1409d7666",
   "metadata": {},
   "outputs": [
    {
     "name": "stdout",
     "output_type": "stream",
     "text": [
      "Good morning\n",
      "Good Morning\n",
      "GOOD MORNING\n",
      "good morning\n",
      "GooD MORNING\n"
     ]
    }
   ],
   "source": [
    "r = \"gOOd morning\"\n",
    "print(r.capitalize()) # it capitalize first word of a string.\n",
    "print(r.title()) # it capitalize each first word of the word\n",
    "print(r.upper()) # it capitalize each character of the string\n",
    "print(r.lower()) # it lower xase each character of the string\n",
    "print(r.swapcase()) # it converts upper case into lower, and wise-versa"
   ]
  },
  {
   "cell_type": "markdown",
   "id": "9027911d-fdbe-45de-80bd-0cbccad30aad",
   "metadata": {},
   "source": [
    "**2. count:**"
   ]
  },
  {
   "cell_type": "code",
   "execution_count": 60,
   "id": "0a6c84c9-1ab2-4d8e-9fc8-165bc72f5be7",
   "metadata": {},
   "outputs": [
    {
     "name": "stdout",
     "output_type": "stream",
     "text": [
      "3\n",
      "20\n"
     ]
    }
   ],
   "source": [
    "t = \"It is raining today\"\n",
    "print(t.count('i'))\n",
    "print(t.count(''))"
   ]
  },
  {
   "cell_type": "markdown",
   "id": "f1ae91f7-df91-425c-a479-dafe02e68485",
   "metadata": {},
   "source": [
    "**3. Find/Index**\n",
    "- The only difference is that, when character is not present, *Find returns -1 and Index gives an Error*"
   ]
  },
  {
   "cell_type": "code",
   "execution_count": 66,
   "id": "fb688ef0-b377-43fb-9041-34d5ae10dbfd",
   "metadata": {},
   "outputs": [
    {
     "name": "stdout",
     "output_type": "stream",
     "text": [
      "7\n",
      "-1\n",
      "7\n"
     ]
    }
   ],
   "source": [
    "print(t.find('a')) # it returns first comming character's index\n",
    "print(t.find('z')) # it returns -1 when character is not present\n",
    "\n",
    "print(t.index('a'))\n",
    "# print(t.index('z')) it give error"
   ]
  },
  {
   "cell_type": "markdown",
   "id": "d4ad8113-5d84-47ff-9927-f34704dff208",
   "metadata": {},
   "source": [
    "**4. endswith/startswith**"
   ]
  },
  {
   "cell_type": "code",
   "execution_count": 69,
   "id": "70b4ef71-c557-432c-97e2-d3a9d5c97026",
   "metadata": {},
   "outputs": [
    {
     "name": "stdout",
     "output_type": "stream",
     "text": [
      "True\n",
      "False\n",
      "False\n",
      "True\n"
     ]
    }
   ],
   "source": [
    "print(t.endswith('day')) # returns True\n",
    "print(t.endswith('da')) # returns False\n",
    "\n",
    "print(t.startswith('it')) # returns False\n",
    "print(t.startswith('It')) # returns True\n"
   ]
  },
  {
   "cell_type": "markdown",
   "id": "4d778fd7-9eec-498e-a129-b7d9e67dc966",
   "metadata": {},
   "source": [
    "**5. format**"
   ]
  },
  {
   "cell_type": "code",
   "execution_count": 75,
   "id": "c4cd11ab-4c01-4442-82b3-2f651a3ed13d",
   "metadata": {},
   "outputs": [
    {
     "name": "stdout",
     "output_type": "stream",
     "text": [
      "My name is wajid, and I am 23 years old.\n",
      "My name is 23, and I am wajid years old.\n",
      "My name is 23, and I am wajid years old.\n",
      "My name is wajid, and I am 23 years old.\n"
     ]
    }
   ],
   "source": [
    "data = \"My name is {}, and I am {} years old.\"\n",
    "print(data.format(\"wajid\", 23))\n",
    "print(data.format(23, \"wajid\"))\n",
    "\n",
    "data1 = \"My name is {0}, and I am {1} years old.\"\n",
    "print(data1.format(23, \"wajid\"))\n",
    "\n",
    "data2 = \"My name is {name}, and I am {age} years old.\"\n",
    "print(data2.format(age = 23,name = \"wajid\"))"
   ]
  },
  {
   "cell_type": "markdown",
   "id": "4a57ee04-22f6-46e1-8bd2-f90deda13a03",
   "metadata": {},
   "source": [
    "**6. isalnum/isalpha/isdecimal/isdigit/isidentifier:**"
   ]
  },
  {
   "cell_type": "code",
   "execution_count": 78,
   "id": "e5fcc29e-6c15-4b1a-9e48-6efd0fd2b114",
   "metadata": {},
   "outputs": [
    {
     "name": "stdout",
     "output_type": "stream",
     "text": [
      "True\n",
      "False\n",
      "False\n",
      "False\n",
      "True\n",
      "False\n",
      "False\n"
     ]
    }
   ],
   "source": [
    "code = \"Er56tY\"\n",
    "print(code.isalnum())\n",
    "print(code.isalpha())\n",
    "print(code.isdecimal())\n",
    "print(code.isdigit())\n",
    "print(code.isidentifier())\n",
    "print(code.isupper())\n",
    "print(code.islower())\n"
   ]
  },
  {
   "cell_type": "markdown",
   "id": "c87601dc-483b-4326-95f9-08a5bc46c89b",
   "metadata": {},
   "source": [
    "**7. Split:**\n",
    "- it breaks each word into a list."
   ]
  },
  {
   "cell_type": "code",
   "execution_count": 84,
   "id": "5df3ac13-ef36-4f4a-9921-4c2490e2d5a1",
   "metadata": {},
   "outputs": [
    {
     "name": "stdout",
     "output_type": "stream",
     "text": [
      "['This', 'is', 'True,', 'for', 'sure']\n",
      "['Th', 's ', 's True, for sure']\n",
      "['This is True, for sure']\n"
     ]
    }
   ],
   "source": [
    "sent = \"This is True, for sure\" # by default it split on space, however you can define by yourself. and converts it into list.\n",
    "print(sent.split())\n",
    "print(sent.split('i'))\n",
    "print(sent.split('z'))"
   ]
  },
  {
   "cell_type": "markdown",
   "id": "5dcf5500-5081-4037-a825-3d80426cd7cc",
   "metadata": {},
   "source": [
    "**8. Join**\n",
    "- you can converts list's into strings."
   ]
  },
  {
   "cell_type": "code",
   "execution_count": 86,
   "id": "c0a4eec1-9bf9-4b82-808c-8cc1f0ab06db",
   "metadata": {},
   "outputs": [
    {
     "data": {
      "text/plain": [
       "'This is True, for sure'"
      ]
     },
     "execution_count": 86,
     "metadata": {},
     "output_type": "execute_result"
    }
   ],
   "source": [
    "\"-\".join(['This', 'is', 'True,', 'for', 'sure'])\n",
    "\" \".join(['This', 'is', 'True,', 'for', 'sure'])"
   ]
  },
  {
   "cell_type": "markdown",
   "id": "ba925f5e-582c-4349-8a67-a45f71ac67ae",
   "metadata": {},
   "source": [
    "**9. Replace**"
   ]
  },
  {
   "cell_type": "code",
   "execution_count": 87,
   "id": "5cede9e9-8308-4ab0-9fd0-39ad3c1e6225",
   "metadata": {},
   "outputs": [
    {
     "data": {
      "text/plain": [
       "'Hi my name is Javed'"
      ]
     },
     "execution_count": 87,
     "metadata": {},
     "output_type": "execute_result"
    }
   ],
   "source": [
    "\"Hi my name is Wajid\".replace(\"Wajid\", \"Javed\")"
   ]
  },
  {
   "cell_type": "markdown",
   "id": "a593f506-e75a-41ff-af12-254002bda12f",
   "metadata": {},
   "source": [
    "**10. Strip**\n",
    "- it remove trailing and leading spaces."
   ]
  },
  {
   "cell_type": "code",
   "execution_count": 88,
   "id": "9d77fd70-06d0-41e0-94b7-92839742c2a9",
   "metadata": {},
   "outputs": [
    {
     "data": {
      "text/plain": [
       "'my name is Wajid'"
      ]
     },
     "execution_count": 88,
     "metadata": {},
     "output_type": "execute_result"
    }
   ],
   "source": [
    "\"  my name is Wajid       \".strip()"
   ]
  },
  {
   "cell_type": "markdown",
   "id": "448549c5-9ff8-434b-8b2e-b31912a680f7",
   "metadata": {},
   "source": [
    "- **Mutables Data Types:** List, Sets, and Dictionary.\n",
    "- **Immutable Data Types:** (*All other Data Types are immutable*) like, Strings, Tuples, Int, Float, Boolean, Complex."
   ]
  },
  {
   "cell_type": "markdown",
   "id": "f20e8e05-3126-457b-89ef-d613cb4667da",
   "metadata": {},
   "source": [
    "## List:"
   ]
  },
  {
   "cell_type": "markdown",
   "id": "a074d023-f743-41c9-a896-aea54228e824",
   "metadata": {},
   "source": [
    "- a list is a collection of items that are ordered, changeable, and allow duplicate values. Lists are created using square brackets and can contain items of any data type.\n"
   ]
  },
  {
   "cell_type": "markdown",
   "id": "dc567408-fa53-4d1f-82c7-db9ddd649c29",
   "metadata": {},
   "source": [
    "**Array vs List:**\n",
    "1. Array is Homogenous, means it can only store single data type of items. **vs** List can be Hetrogenous, means it can store multiple data types of items.\n",
    "2. Array stores items on continuous memory location, means one by one **vs** List does not store items on continuous memory locations.\n",
    "3. Array is faster than list, because it stores items on continuous memory locations.\n",
    "4. List are more programmer friendly."
   ]
  },
  {
   "cell_type": "markdown",
   "id": "8edc9988-17f6-447c-8ec4-f93fbad169eb",
   "metadata": {},
   "source": [
    "**Creating List:**"
   ]
  },
  {
   "cell_type": "code",
   "execution_count": 92,
   "id": "61d5ac25-8748-42d5-903f-00a8bfb56b69",
   "metadata": {},
   "outputs": [
    {
     "name": "stdout",
     "output_type": "stream",
     "text": [
      "[]\n",
      "[1, 2, 3, 4, 5]\n",
      "['J', 3.22, 'Wajid', 101, False]\n"
     ]
    }
   ],
   "source": [
    "L = [] # empty list\n",
    "print(L)\n",
    "L = [1,2,3,4,5] # Homogenous List\n",
    "print(L)\n",
    "L = ['J',3.22,\"Wajid\", 101, False] # Hetrogenous List\n",
    "print(L)"
   ]
  },
  {
   "cell_type": "markdown",
   "id": "8e7508e5-3652-4086-bc7e-750a4192792f",
   "metadata": {},
   "source": [
    "**Multi-Dimmensional List:**"
   ]
  },
  {
   "cell_type": "code",
   "execution_count": 98,
   "id": "872eb0f0-e8b0-4779-8d45-3a836a5715ae",
   "metadata": {},
   "outputs": [
    {
     "name": "stdout",
     "output_type": "stream",
     "text": [
      "[1, 2, 3, [4, 5]]\n",
      "[[1, 2, 3], [4, 5, 6]]\n",
      "[[[1, 2], [3, 4], [5, 6]]]\n",
      "['w', 'a', 'j', 'i', 'd']\n"
     ]
    },
    {
     "data": {
      "text/plain": [
       "[]"
      ]
     },
     "execution_count": 98,
     "metadata": {},
     "output_type": "execute_result"
    }
   ],
   "source": [
    "L = [1,2,3,[4,5]] # 2D List\n",
    "print(L)\n",
    "L = [[1,2,3],[4,5,6]] # 2D List\n",
    "print(L)\n",
    "L = [[[1,2],[3,4],[5,6]]] # 3D List\n",
    "print(L)\n",
    "L = list(\"wajid\") # Type Conversion\n",
    "print(L)\n",
    "L = list() # empty List\n",
    "L"
   ]
  },
  {
   "cell_type": "markdown",
   "id": "539472e0-2faf-4876-9d70-13ef898b6d2e",
   "metadata": {},
   "source": [
    "**Access List:**"
   ]
  },
  {
   "cell_type": "code",
   "execution_count": 111,
   "id": "cace52a0-ab0f-4c3e-bd77-10dbf82e6d10",
   "metadata": {},
   "outputs": [
    {
     "name": "stdout",
     "output_type": "stream",
     "text": [
      "1\n",
      "6\n",
      "[2, 3, 4]\n",
      "[1, 2]\n",
      "[6, 5, 4, 3, 2, 1]\n",
      "4\n",
      "4\n",
      "7\n",
      "7\n"
     ]
    }
   ],
   "source": [
    "L = [1,2,3,4,5,6]\n",
    "print(L[0]) # print 0th Index\n",
    "print(L[-1])\n",
    "print(L[1:4])\n",
    "print(L[:2])\n",
    "print(L[::-1])\n",
    "\n",
    "# Accessing Multi-Dimmensional Lists\n",
    "L = [1,2,3,[4,5]] # access 4\n",
    "print(L[3][0]) \n",
    "# you can write \n",
    "print(L[-1][0])\n",
    "\n",
    "# Accessing 3D Lists:\n",
    "L = [[[1,2],[3,4]],[[5,6],[7,8]]] # access 7\n",
    "print(L[-1][-1][0])\n",
    "print(L[1][1][0]) # another method"
   ]
  },
  {
   "cell_type": "markdown",
   "id": "4023ff9a-23e7-40f4-b2ad-dfb744da683e",
   "metadata": {},
   "source": [
    "**Edit List:**"
   ]
  },
  {
   "cell_type": "code",
   "execution_count": 116,
   "id": "41d3f08f-927b-482e-b713-5a7b02b78f68",
   "metadata": {},
   "outputs": [
    {
     "name": "stdout",
     "output_type": "stream",
     "text": [
      "[100, 2, 3, 4, 5]\n",
      "[100, 2, 3, 4, 500]\n",
      "[100, 200, 300, 400, 500]\n"
     ]
    }
   ],
   "source": [
    "L = [1,2,3,4,5]\n",
    "L[0] = 100 \n",
    "print(L)\n",
    "L[-1] = 500\n",
    "print(L)\n",
    "L[1:4]  = [200,300,400]\n",
    "print(L)"
   ]
  },
  {
   "cell_type": "markdown",
   "id": "2ac93b8c-0b97-41e4-ad94-abb9513a2883",
   "metadata": {},
   "source": [
    "**Adding new items:**\n",
    "- **append:** It adds one item at last position.\n",
    "- **extend:** It adds multiple items at last position.\n",
    "- **insert:** It can add item any where in the list, using Index."
   ]
  },
  {
   "cell_type": "code",
   "execution_count": 129,
   "id": "ac8aa72f-b801-453e-a744-f782c3af14b6",
   "metadata": {
    "scrolled": true
   },
   "outputs": [
    {
     "name": "stdout",
     "output_type": "stream",
     "text": [
      "[1, 2, 3, 4]\n",
      "[1, 2, 3, 4, 5, [6, 7], 'Six']\n",
      "[1, 2, 3, 4, 5, [6, 7], 'Six', 7, 8, 9, 'w', 'a', 'j', 'i', 'd']\n",
      "[1, 2, 350, 3, 4, 5, 'Go', [6, 7], 'Six', 7, 8, 9, 'w', 'a', 'j', 'i', 'd']\n"
     ]
    }
   ],
   "source": [
    "L = [1,2,3,4]\n",
    "print(L)\n",
    "L.append(5)\n",
    "L.append([6,7])\n",
    "L.append(\"Six\")\n",
    "print(L)\n",
    "L.extend([7,8,9])\n",
    "L.extend(\"wajid\")\n",
    "print(L)\n",
    "#L.insert(index,value)\n",
    "L.insert(2,350)\n",
    "L.insert(6,\"Go\")\n",
    "print(L)"
   ]
  },
  {
   "cell_type": "markdown",
   "id": "a03174b4-a526-4125-a243-b168de739b9c",
   "metadata": {},
   "source": [
    "**Delete List:**\n",
    "- **del:** It delete whole list, or portion of list.\n",
    "- **remove:** It removes by getting item value.\n",
    "- **pop:** It always delete the last item.\n",
    "- **clear:** It empty whole list."
   ]
  },
  {
   "cell_type": "code",
   "execution_count": 142,
   "id": "c41c112f-da7e-4879-ac3a-4089aff51285",
   "metadata": {},
   "outputs": [
    {
     "name": "stdout",
     "output_type": "stream",
     "text": [
      "[2, 350, 3, 4, 5, 'Go', [6, 7], 'Six', 7, 8, 9, 'w', 'a', 'j', 'i', 'd']\n",
      "[2, 350, 3, 4, 5, 'Go', [6, 7], 'Six', 7, 8, 9, 'w', 'a', 'j', 'i']\n",
      "[2, 350, 3, 4, 5, 'Go', [6, 7], 'Six', 7, 8, 9]\n",
      "[2, 350, 3, 4, 5, 'Go', [6, 7], 7, 8, 9]\n",
      "[2, 350, 3, 4, 5, 'Go', [6, 7], 8, 9]\n",
      "[2, 350, 3, 4, 5, 'Go', [6, 7], 8]\n",
      "[]\n"
     ]
    }
   ],
   "source": [
    "L = [1, 2, 350, 3, 4, 5, 'Go', [6, 7], 'Six', 7, 8, 9, 'w', 'a', 'j', 'i', 'd']\n",
    "L1 = [1, 2, 3, 4]\n",
    "del L1 # it delete whole list L1\n",
    "del L[0] # delete 1 from list\n",
    "print(L)\n",
    "del L[-1]\n",
    "print(L)\n",
    "del L[-4:]\n",
    "print(L)\n",
    "\n",
    "L.remove(\"Six\")\n",
    "print(L)\n",
    "L.remove(7)\n",
    "print(L)\n",
    "\n",
    "L.pop()\n",
    "print(L) # delete 9\n",
    "\n",
    "L.clear()\n",
    "print(L)"
   ]
  },
  {
   "cell_type": "markdown",
   "id": "45e911b7-3170-4e73-bfb5-d514195754ee",
   "metadata": {},
   "source": [
    "**Operations on List:**"
   ]
  },
  {
   "cell_type": "code",
   "execution_count": 165,
   "id": "3849d874-3d75-4d35-b73c-c46fae0a2c4a",
   "metadata": {},
   "outputs": [
    {
     "name": "stdout",
     "output_type": "stream",
     "text": [
      "[1, 2, 3, 4, 5, 10, 11, 12, [13, 14]]\n",
      "6\n",
      "[1, 2, 3, 4, 5]\n",
      "[10, 11, 12, [13, 14]]\n",
      "[1, 2, 3, 4, 5, 1, 2, 3, 4, 5]\n",
      "9\n",
      "1 2 3 4 5 \n",
      "\n",
      "10 11 12 [13, 14] \n",
      "\n",
      "True\n",
      "True\n"
     ]
    }
   ],
   "source": [
    "L = [1,2,3,4,5]\n",
    "M = [10,11,12,[13,14]]\n",
    "\n",
    "# Concatination:\n",
    "print(L + M) # it creates a new list, means L ans M's values will be same.\n",
    "print(M[1] - 5)\n",
    "print(L)\n",
    "print(M)\n",
    "\n",
    "# Multiplication:\n",
    "print(L * 2)\n",
    "print(L[2] * 3)\n",
    "\n",
    "# Loop:\n",
    "for i in L:\n",
    "    print(i, end = ' ')\n",
    "    \n",
    "print(\"\\n\")\n",
    "\n",
    "for i in M:\n",
    "    print(i, end = ' ')\n",
    "# Membership Operator:\n",
    "print('\\n')\n",
    "print(5 in L)\n",
    "print(8 not in L)"
   ]
  },
  {
   "cell_type": "markdown",
   "id": "cc8af325-1d7c-4055-9d6e-07e67ee7ffef",
   "metadata": {},
   "source": [
    "**Functions in List:**"
   ]
  },
  {
   "cell_type": "code",
   "execution_count": 178,
   "id": "7c9d2093-0140-4cfa-a7c4-7080862a1705",
   "metadata": {},
   "outputs": [
    {
     "name": "stdout",
     "output_type": "stream",
     "text": [
      "6\n",
      "7\n",
      "1\n",
      "[1, 1, 2, 4, 5, 7]\n",
      "[1, 2, 1, 4, 5, 7]\n",
      "[1, 1, 2, 4, 5, 7]\n",
      "3\n"
     ]
    }
   ],
   "source": [
    "L = [1,2,1,4,5,7]\n",
    "print(len(L))\n",
    "print(max(L))\n",
    "print(min(L))\n",
    "print(sorted(L)) # it changes temporary \n",
    "print(L)\n",
    "L.sort()\n",
    "print(L)\n",
    "\n",
    "print(L.index(4))"
   ]
  },
  {
   "cell_type": "code",
   "execution_count": 181,
   "id": "5a69cefb-de06-4f42-9436-ced08f4bc83d",
   "metadata": {},
   "outputs": [
    {
     "name": "stdout",
     "output_type": "stream",
     "text": [
      "My Name Is Wajid Javed\n"
     ]
    }
   ],
   "source": [
    "# problem-01: write a program which function like a Title function\n",
    "text = \"my name is wajid javed\"\n",
    "list = []\n",
    "for i in text.split():\n",
    "    list.append(i.capitalize())\n",
    "    \n",
    "print(\" \".join(list))    "
   ]
  },
  {
   "cell_type": "code",
   "execution_count": 186,
   "id": "8796ae2e-523b-42c3-be26-7115e9ee2ab2",
   "metadata": {},
   "outputs": [
    {
     "name": "stdout",
     "output_type": "stream",
     "text": [
      "wajidjaved160\n"
     ]
    }
   ],
   "source": [
    "# problem-02: write a program which find the text from gmail id brfore @\n",
    "gmail = \"wajidjaved160@gmail.com\"\n",
    "a = gmail.index('@')\n",
    "print(gmail[:a])"
   ]
  },
  {
   "cell_type": "code",
   "execution_count": 191,
   "id": "5c50f387-846e-4762-a7bb-b6b825a07ca4",
   "metadata": {},
   "outputs": [
    {
     "name": "stdout",
     "output_type": "stream",
     "text": [
      "[1, 2, 3, 4, 5]\n"
     ]
    }
   ],
   "source": [
    "# problem-03: write a program which removes duplicate values from a list.\n",
    "L = [1,2,3,3,2,5,4]\n",
    "M = []\n",
    "for i in L:\n",
    "    if i not in M:\n",
    "        M.append(i)\n",
    "M.sort()        \n",
    "print(M)        "
   ]
  },
  {
   "cell_type": "markdown",
   "id": "cf336c95-acf7-4609-8cba-8ea56e623405",
   "metadata": {},
   "source": [
    "## Tuple:"
   ]
  },
  {
   "cell_type": "markdown",
   "id": "feac0624-a809-4e85-99d2-f3d0cf6fb687",
   "metadata": {},
   "source": [
    "- A tuple is a collection of ordered and unchangeable items in Python, written with round brackets.\n",
    "- Tuples are read-only data type"
   ]
  },
  {
   "cell_type": "markdown",
   "id": "dab2bf30-589b-47eb-9766-2ba6763e5673",
   "metadata": {},
   "source": [
    "**Creating Tuple:**"
   ]
  },
  {
   "cell_type": "code",
   "execution_count": 200,
   "id": "e14895f6-cbe2-48c8-b511-811007e5daf8",
   "metadata": {},
   "outputs": [
    {
     "name": "stdout",
     "output_type": "stream",
     "text": [
      "()\n",
      "(1, 2, 3, 4, 5)\n",
      "('w', 23, 'wajid', True, 6.4)\n",
      "(6, 7, (8, 9))\n",
      "(((1, 2), (3, 4)), ((5, 6), (7, 8)))\n",
      "(5,)\n",
      "<class 'tuple'>\n"
     ]
    }
   ],
   "source": [
    "T = () #empty Tuple\n",
    "print(T)\n",
    "#print(type(T))\n",
    "T  = (1,2,3,4,5) # Homogenous\n",
    "print(T)\n",
    "#print(type(T))\n",
    "T = ('w', 23,\"wajid\", True, 6.4) # Hetrogenous\n",
    "print(T)\n",
    "#print(type(T))\n",
    "T = (6,7,(8,9)) # 2D Tuple\n",
    "print(T)\n",
    "#print(type(T))\n",
    "T = (((1,2),(3,4)),((5,6),(7,8))) # 3D Tuple\n",
    "print(T)\n",
    "#print(type(T))\n",
    "T = (5,) # this is single item tuple\n",
    "print(T)\n",
    "print(type(T))"
   ]
  },
  {
   "cell_type": "code",
   "execution_count": 202,
   "id": "d191d5c7-65ba-4fc2-863a-764602bf90c3",
   "metadata": {},
   "outputs": [
    {
     "name": "stdout",
     "output_type": "stream",
     "text": [
      "('W', 'a', 'j', 'i', 'd')\n",
      "(1, 2, 3, 4, 5)\n"
     ]
    }
   ],
   "source": [
    "# Type Conversion\n",
    "T = tuple(\"Wajid\")\n",
    "print(T)\n",
    "T = tuple((1,2,3,4,5))\n",
    "print(T)"
   ]
  },
  {
   "cell_type": "markdown",
   "id": "59baac1e-de84-4336-8cec-33b7e437941d",
   "metadata": {},
   "source": [
    "**Accessing Tuple:**"
   ]
  },
  {
   "cell_type": "code",
   "execution_count": 206,
   "id": "c6aca5b8-894e-4190-86a1-5c6c838125f7",
   "metadata": {},
   "outputs": [
    {
     "name": "stdout",
     "output_type": "stream",
     "text": [
      "1\n",
      "5\n",
      "(2, 3, 4)\n",
      "4\n"
     ]
    }
   ],
   "source": [
    "T = (1,2,3,4,5)\n",
    "print(T[0])\n",
    "print(T[-1])\n",
    "print(T[1:4])\n",
    "T = (1,2,(3,4))\n",
    "print(T[2][1])"
   ]
  },
  {
   "cell_type": "markdown",
   "id": "d3aec634-b242-4559-9194-3054683bfc5e",
   "metadata": {},
   "source": [
    "**Edit Tuple:**\n",
    "- you cannot edit tuples, because it's Immutable (*Unchangable.*)"
   ]
  },
  {
   "cell_type": "code",
   "execution_count": 208,
   "id": "90a367c1-94ed-4585-acfa-d5d36ff9eb3b",
   "metadata": {},
   "outputs": [],
   "source": [
    "T = (1,2,3,4,5)\n",
    "#print(T[1] = 12) gives Error"
   ]
  },
  {
   "cell_type": "markdown",
   "id": "863f4b03-0012-4e44-a224-9b0f39561aeb",
   "metadata": {},
   "source": [
    "**Adding Tuple:**\n",
    "- you cannot add items in a created Tuple."
   ]
  },
  {
   "cell_type": "code",
   "execution_count": 210,
   "id": "b43f6599-3e2b-4c08-abf5-ec8441b87153",
   "metadata": {},
   "outputs": [],
   "source": [
    "T = (1,2,3,4,5)\n",
    "#print(T.append(6)) give Error"
   ]
  },
  {
   "cell_type": "markdown",
   "id": "20da4a50-4d03-4240-a9bc-8d98c4cb11e1",
   "metadata": {},
   "source": [
    "**Deleting Tuple:**"
   ]
  },
  {
   "cell_type": "code",
   "execution_count": 214,
   "id": "6e0f8718-6c0c-4e5b-a996-9e1f25787b07",
   "metadata": {},
   "outputs": [],
   "source": [
    "# you can delete a whole Tuple, However cannot delete a single item of a Tuple.\n",
    "T = (1,2,4,5,6)\n",
    "#del T[0] give Error\n",
    "del T # it delete whole Tuple\n",
    "#print(T) # it give Error, That Tuple (T) not exist."
   ]
  },
  {
   "cell_type": "markdown",
   "id": "601eb526-8fb9-4bc0-be34-ea1b32de0f2c",
   "metadata": {},
   "source": [
    "**Operations in Tuple:**"
   ]
  },
  {
   "cell_type": "code",
   "execution_count": 220,
   "id": "17bd4b96-a139-4424-976e-40de23b5988b",
   "metadata": {},
   "outputs": [
    {
     "name": "stdout",
     "output_type": "stream",
     "text": [
      "(1, 2, 3, 4, 5, 6, 7, 8)\n",
      "(6, 7, 8, 6, 7, 8)\n",
      "1\n",
      "2\n",
      "3\n",
      "4\n",
      "5\n",
      "True\n",
      "False\n"
     ]
    }
   ],
   "source": [
    "# Concatenate\n",
    "T = (1,2,3,4,5)\n",
    "T1 = (6,7,8)\n",
    "print(T + T1)\n",
    "\n",
    "# Multiplication\n",
    "print(T1 * 2)\n",
    "# Loop\n",
    "for i in T:\n",
    "    print(i)\n",
    "# Membership Operator\n",
    "print(3 in T)\n",
    "print(4 not in T)"
   ]
  },
  {
   "cell_type": "markdown",
   "id": "7145ec4c-5459-4102-8a4c-414816db0244",
   "metadata": {},
   "source": [
    "**Functions in Tuple:**"
   ]
  },
  {
   "cell_type": "code",
   "execution_count": 224,
   "id": "b5120c04-8d0f-4a49-871b-fd65d22e5249",
   "metadata": {},
   "outputs": [
    {
     "name": "stdout",
     "output_type": "stream",
     "text": [
      "5\n",
      "1\n",
      "6\n",
      "16\n",
      "[1, 2, 3, 4, 6]\n",
      "[6, 4, 3, 2, 1]\n"
     ]
    }
   ],
   "source": [
    "T = (1,3,2,4,6)\n",
    "print(len(T))\n",
    "print(min(T))\n",
    "print(max(T))\n",
    "print(sum(T))\n",
    "print(sorted(T)) # it convert into List\n",
    "print(sorted(T, reverse = True)) # it convert into List\n"
   ]
  },
  {
   "cell_type": "markdown",
   "id": "da596fc3-0493-468a-816a-2861ad52c0df",
   "metadata": {},
   "source": [
    "## Sets:\n",
    "- A set is a built-in data type used to store collections of unique items, and it is mutable data type..\n",
    "- Set follows Hashing, rather Indexing\n",
    "- Here are some key characteristics of sets:\n",
    "  - Unordered: The items in a set do not have a defined order.\n",
    "  - Unchangeable: Once a set is created, you cannot change its items, but you can add or remove items.\n",
    "  - No duplicates: Sets do not allow duplicate values.\n",
    "  - You can create a set using curly braces {} or the set() constructor."
   ]
  },
  {
   "cell_type": "markdown",
   "id": "2f809191-cfdf-4c94-826a-2fa4069121a3",
   "metadata": {},
   "source": [
    "**Set Rules:**\n",
    "1. Sets do not allow duplicates.\n",
    "2. Sets have no indexing/slicing.\n",
    "3. Sets don't allow mutable data type.\n",
    "4. Sets itself is a mutable data type."
   ]
  },
  {
   "cell_type": "markdown",
   "id": "2e309ea0-41cb-46ec-a6c2-3a937c312254",
   "metadata": {},
   "source": [
    "**Creating Set:**"
   ]
  },
  {
   "cell_type": "code",
   "execution_count": 242,
   "id": "46c22b21-fee0-4594-ab55-b97aa97d8a83",
   "metadata": {},
   "outputs": [
    {
     "name": "stdout",
     "output_type": "stream",
     "text": [
      "set()\n",
      "<class 'set'>\n",
      "{1, 2, 3, 4, 5}\n",
      "{1, 'R', 9.65, 'wajid'}\n",
      "{1, 2, 3, 4, 5}\n",
      "{(1, 2), (3, 4)}\n"
     ]
    }
   ],
   "source": [
    "S = set() # this is empty Set\n",
    "print(S)\n",
    "print(type(S))\n",
    "S = {1,2,3,4,5}\n",
    "print(S)\n",
    "S = {1,'R', \"wajid\", True, 9.65} # Set follows Hashing, rather Indexing\n",
    "print(S)\n",
    "S = {1,2,3,2,1,4,5,4,4}\n",
    "print(S)\n",
    "#S = {[1,2,3], \"Hello\"} # give error, due to List, because it's mutable, violating rule no: 3\n",
    "#print(S)\n",
    "S = {(1,2),(3,4)}\n",
    "print(S)\n",
    "#S = {{1,2},{3,4}} # give error, it's because these are mutable data types\n",
    "#print(S)\n"
   ]
  },
  {
   "cell_type": "markdown",
   "id": "304134ad-e287-4358-97d9-8fe4d94825e7",
   "metadata": {},
   "source": [
    "**Accessing Sets:**\n",
    "- you cannot access items out of sets."
   ]
  },
  {
   "cell_type": "code",
   "execution_count": 245,
   "id": "d695156c-4132-449f-8423-59232e08d527",
   "metadata": {},
   "outputs": [],
   "source": [
    "S = {1,2,3,4,5}\n",
    "#print(S[0])       give error\n",
    "#print(S[1:3])     give error"
   ]
  },
  {
   "cell_type": "markdown",
   "id": "2552410b-ab13-4eb9-accf-1cb6691c9473",
   "metadata": {},
   "source": [
    "**Editing Sets:**\n",
    "- you cannot edit sets."
   ]
  },
  {
   "cell_type": "code",
   "execution_count": 247,
   "id": "a804f8a7-12a3-405a-9a92-1f66d5cfd756",
   "metadata": {},
   "outputs": [],
   "source": [
    "S = {1,2,3,4}\n",
    "#print(S[1] = 150) give error"
   ]
  },
  {
   "cell_type": "markdown",
   "id": "405e678c-b0cf-4e54-b082-a675fba4de75",
   "metadata": {},
   "source": [
    "**Adding Sets:**"
   ]
  },
  {
   "cell_type": "code",
   "execution_count": 253,
   "id": "a2095a84-b16e-415b-881f-7e4d7924997e",
   "metadata": {},
   "outputs": [
    {
     "name": "stdout",
     "output_type": "stream",
     "text": [
      "{1, 2, 3}\n",
      "{1, 2, 3, 45}\n",
      "{1, 2, 3, 45, 'joke'}\n"
     ]
    }
   ],
   "source": [
    "S = {1,2,3}\n",
    "print(S)\n",
    "S.add(45) # adding item\n",
    "print(S)\n",
    "S.add(\"joke\")\n",
    "print(S)"
   ]
  },
  {
   "cell_type": "markdown",
   "id": "215c0f7c-631f-48fb-b0d6-b20feec2cdd7",
   "metadata": {},
   "source": [
    "**Deleting Sets:**"
   ]
  },
  {
   "cell_type": "code",
   "execution_count": 258,
   "id": "856c2b4d-905d-4c71-a5a5-a6a7adab2a60",
   "metadata": {},
   "outputs": [
    {
     "name": "stdout",
     "output_type": "stream",
     "text": [
      "{1, 2, 3, 5}\n",
      "{2, 3, 5}\n"
     ]
    }
   ],
   "source": [
    "S = {1,2,3,4,5}\n",
    "S1 = {1,4,32,7}\n",
    "del S1 # delete S1\n",
    "#print(S1)\n",
    "#del S[1] # give error,bcz it only can delete whole sets.as above\n",
    "\n",
    "S.remove(4)\n",
    "print(S)\n",
    "\n",
    "S.pop() # here it remove 1 instead of 5, it's bcz sets works on hashing\n",
    "print(S)"
   ]
  },
  {
   "cell_type": "markdown",
   "id": "11057ab3-75b8-4ccc-8837-1a61d311209e",
   "metadata": {},
   "source": [
    "**Set Operations:**"
   ]
  },
  {
   "cell_type": "code",
   "execution_count": 263,
   "id": "e82fd109-f5cd-4b89-b16e-c884949dc0ca",
   "metadata": {},
   "outputs": [
    {
     "name": "stdout",
     "output_type": "stream",
     "text": [
      "1\n",
      "2\n",
      "3\n",
      "4\n",
      "5\n",
      "True\n"
     ]
    }
   ],
   "source": [
    "S = {1,2,3,4,5}\n",
    "S1 = {3,4,5,6}\n",
    "# you cannot concatinate and multiply\n",
    "#S + S1\n",
    "#S * 2\n",
    "\n",
    "for i in S: # Loops\n",
    "    print(i)\n",
    "\n",
    "print(6 in S1) # membership operator"
   ]
  },
  {
   "cell_type": "markdown",
   "id": "5f4c04b4-6934-4420-b116-2c51ffcf27ca",
   "metadata": {},
   "source": [
    "**Set Functions:**"
   ]
  },
  {
   "cell_type": "code",
   "execution_count": 270,
   "id": "4d1b3618-1f45-48b8-bed0-a6918cf5ca1a",
   "metadata": {},
   "outputs": [
    {
     "name": "stdout",
     "output_type": "stream",
     "text": [
      "{1, 2, 3, 4, 7}\n",
      "5\n",
      "1\n",
      "7\n",
      "17\n",
      "[1, 2, 3, 4, 7]\n",
      "[7, 4, 3, 2, 1]\n"
     ]
    }
   ],
   "source": [
    "S = {1,3,2,7,7,4}\n",
    "print(S)\n",
    "print(len(S))\n",
    "print(min(S))\n",
    "print(max(S))\n",
    "print(sum(S))\n",
    "print(sorted(S))\n",
    "print(sorted(S, reverse = True))"
   ]
  },
  {
   "cell_type": "markdown",
   "id": "21416e62-de43-4be8-b182-dd7e6001d7f9",
   "metadata": {},
   "source": [
    "**Special Functions only Sets can use:**"
   ]
  },
  {
   "cell_type": "code",
   "execution_count": 286,
   "id": "c8d03f35-db40-475f-81fb-a5c45103efb9",
   "metadata": {},
   "outputs": [
    {
     "name": "stdout",
     "output_type": "stream",
     "text": [
      "{1, 2, 3, 4, 5, 6, 7, 8}\n",
      "{1, 2, 3, 5}\n",
      "{8, 4, 6}\n",
      "{7}\n",
      "{4, 6, 7, 8}\n",
      "False\n",
      "False\n",
      "False\n"
     ]
    }
   ],
   "source": [
    "S = {1,2,3,5,4,6,8}\n",
    "S1 = {2,1,3,5,7}\n",
    "\n",
    "print(S.union(S1)) # it returns all the unique numbers.\n",
    "print(S.intersection(S1)) # it returns, all the common numbers.\n",
    "\n",
    "print(S.difference(S1)) # show items which are present in S but not in S1.\n",
    "print(S1.difference(S)) # show items which are present in S1 but not in S.\n",
    "\n",
    "print(S1.symmetric_difference(S)) # show all the items, which are not in each of these.\n",
    "\n",
    "# disjoint is, when there is no common item b/w two sets\n",
    "print(S1.isdisjoint(S)) # return's False, bcz there are common items present.\n",
    "\n",
    "# subset means, S sets all the items are present in set S1, and S1 has also other unique items.\n",
    "print(S1.issubset(S))   # returns False\n",
    "\n",
    "# Superset means, all elements of one set are contained within another set\n",
    "print(S1.issuperset(S))"
   ]
  },
  {
   "cell_type": "markdown",
   "id": "c220a06d-d0c0-4141-a97d-03b84437daab",
   "metadata": {},
   "source": [
    "## Dictionary:"
   ]
  },
  {
   "cell_type": "markdown",
   "id": "ac420203-f357-4c51-86de-f6cc30cdb84a",
   "metadata": {},
   "source": [
    "- In Python, a dictionary is a built-in data type that allows you to store data in key-value pairs.\n",
    "- Here are some key features of dictionaries:\n",
    "  - **Ordered**: As of Python 3.7, dictionaries maintain the order of items. In earlier versions, they were unordered.\n",
    "  - **Changeable**: You can modify, add, or remove items after the dictionary is created.\n",
    "  - **No Duplicates**: Each key in a dictionary must be unique. If you try to use a duplicate key, the last value assigned to that key will overwrite the previous one."
   ]
  },
  {
   "cell_type": "markdown",
   "id": "76b36834-710e-4fe2-86af-211fd40345e5",
   "metadata": {},
   "source": [
    "**Rules of Dictionary:**\n",
    "1. Dictionary has no Indexing\n",
    "2. Dictionary is Mutable\n",
    "3. Keys: are immutable and Values: are mutable\n",
    "4. Keys should be unique"
   ]
  },
  {
   "cell_type": "code",
   "execution_count": 290,
   "id": "7c9fde48-b2c2-4ecf-afb7-e23602542191",
   "metadata": {},
   "outputs": [
    {
     "name": "stdout",
     "output_type": "stream",
     "text": [
      "{'Name': 'Wajid', 'Age': 23, 'Gender': 'Male'}\n",
      "<class 'dict'>\n"
     ]
    }
   ],
   "source": [
    "D = {\"Name\": \"Wajid\", \"Age\": 23, \"Gender\" : \"Male\"}\n",
    "print(D)\n",
    "print(type(D))"
   ]
  },
  {
   "cell_type": "markdown",
   "id": "4f18d680-5726-4338-bacb-f9bb52a2d907",
   "metadata": {},
   "source": [
    "**Creating Dictionary:**"
   ]
  },
  {
   "cell_type": "code",
   "execution_count": 297,
   "id": "6e25bab5-c800-459f-bcdd-c2962cfa0417",
   "metadata": {},
   "outputs": [
    {
     "name": "stdout",
     "output_type": "stream",
     "text": [
      "{}\n",
      "<class 'dict'>\n",
      "{(1, 2): 'Nitish'}\n",
      "{'Name': 'Javed'}\n",
      "{'Name': 'Wajid', 'Marks': {'math': 88, 'eng': 78, 'python': 96}}\n"
     ]
    }
   ],
   "source": [
    "D = {} # empty dictionary\n",
    "print(D)\n",
    "print(type(D))\n",
    "\n",
    "# Keys must be Immutables\n",
    "#D = {[1,2] : \"Nitish\"} \n",
    "#print(D) # give error, bcz list is mutable.\n",
    "\n",
    "D = {(1,2) : \"Nitish\"}\n",
    "print(D) # it works, bcz tuple is immutable.\n",
    "\n",
    "# Keys should be unique\n",
    "D = {\"Name\" : \"Wajid\", \"Name\" : \"Javed\"}\n",
    "print(D)\n",
    "\n",
    "# 2D dictionary\n",
    "D = {\"Name\":\"Wajid\",\"Marks\":{\"math\":88,\"eng\":78,\"python\":96}}\n",
    "print(D)"
   ]
  },
  {
   "cell_type": "markdown",
   "id": "fff32416-7dea-4ce1-908b-5ec322a8d7bc",
   "metadata": {},
   "source": [
    "**Accessing Dictionary:**"
   ]
  },
  {
   "cell_type": "code",
   "execution_count": 301,
   "id": "85f574fc-41f9-420e-8769-9e19a9ed8071",
   "metadata": {},
   "outputs": [
    {
     "name": "stdout",
     "output_type": "stream",
     "text": [
      "Wajid\n",
      "78\n"
     ]
    }
   ],
   "source": [
    "D = {\"Name\":\"Wajid\",\"Marks\":{\"math\":88,\"eng\":78,\"python\":96}}\n",
    "print(D[\"Name\"]) # you cannot get values by Indexing.\n",
    "print(D[\"Marks\"][\"eng\"])\n"
   ]
  },
  {
   "cell_type": "markdown",
   "id": "86edbbdd-6cda-48bd-a4ce-f59d7539424e",
   "metadata": {},
   "source": [
    "**Editing Dictionary:**"
   ]
  },
  {
   "cell_type": "code",
   "execution_count": 306,
   "id": "0078c931-7821-4408-a003-9c1005276090",
   "metadata": {},
   "outputs": [
    {
     "name": "stdout",
     "output_type": "stream",
     "text": [
      "{'Name': 'Javed', 'Marks': {'math': 88, 'eng': 78, 'python': 96}}\n"
     ]
    },
    {
     "data": {
      "text/plain": [
       "{'Name': 'Javed', 'Marks': {'math': '94', 'eng': 78, 'python': 96}}"
      ]
     },
     "execution_count": 306,
     "metadata": {},
     "output_type": "execute_result"
    }
   ],
   "source": [
    "D = {\"Name\":\"Wajid\",\"Marks\":{\"math\":88,\"eng\":78,\"python\":96}}\n",
    "D[\"Name\"] = \"Javed\"\n",
    "print(D)\n",
    "\n",
    "D[\"Marks\"][\"math\"] = \"94\"\n",
    "D"
   ]
  },
  {
   "cell_type": "markdown",
   "id": "13ca5746-3105-42da-a9dc-9730acef8c89",
   "metadata": {},
   "source": [
    "**Adding Dictionary:**"
   ]
  },
  {
   "cell_type": "code",
   "execution_count": 310,
   "id": "8b5e5083-6b5a-4ecc-9912-57b89419ac70",
   "metadata": {},
   "outputs": [
    {
     "name": "stdout",
     "output_type": "stream",
     "text": [
      "{'Name': 'Wajid', 'Marks': {'math': 88, 'eng': 78, 'python': 96, 'C++': 69}, 'Age': 23}\n"
     ]
    }
   ],
   "source": [
    "D = {\"Name\":\"Wajid\",\"Marks\":{\"math\":88,\"eng\":78,\"python\":96}}\n",
    "D[\"Age\"] = 23\n",
    "D[\"Marks\"][\"C++\"] = 69\n",
    "print(D)\n"
   ]
  },
  {
   "cell_type": "markdown",
   "id": "6acdbd58-9fb6-4f9e-9a27-658cf1d195e8",
   "metadata": {},
   "source": [
    "**Deleting Dictionary:**"
   ]
  },
  {
   "cell_type": "code",
   "execution_count": 317,
   "id": "d99a04ca-6f4a-405d-bee6-8fb93caafc6c",
   "metadata": {},
   "outputs": [
    {
     "name": "stdout",
     "output_type": "stream",
     "text": [
      "{'Name': 'Wajid', 'Marks': {'math': 88, 'eng': 78, 'python': 96}, 'Age': 23}\n",
      "{}\n"
     ]
    }
   ],
   "source": [
    "D = {'Name': 'Wajid', 'Marks': {'math': 88, 'eng': 78, 'python': 96, 'C++': 69}, 'Age': 23}\n",
    "D1 = {\"Type\":\"Integer\"}\n",
    "del D1\n",
    "\n",
    "del D[\"Marks\"][\"C++\"]\n",
    "print(D)\n",
    "\n",
    "D.clear()\n",
    "print(D)"
   ]
  },
  {
   "cell_type": "markdown",
   "id": "756d77c0-d90d-44b3-acee-a939536d6dc8",
   "metadata": {},
   "source": [
    "**Operations in Dictionary:**"
   ]
  },
  {
   "cell_type": "code",
   "execution_count": 331,
   "id": "d85838f1-c79f-4ae8-9832-e84cd42b8baf",
   "metadata": {},
   "outputs": [
    {
     "name": "stdout",
     "output_type": "stream",
     "text": [
      "color\n",
      "time\n",
      "date\n",
      "Yellow\n",
      "morning\n",
      "28\n",
      "color Yellow\n",
      "time morning\n",
      "date 28\n",
      "False\n",
      "True\n"
     ]
    }
   ],
   "source": [
    "# Concatination and Multiplication does not work.\n",
    "D = {\"color\": \"Yellow\", \"time\": \"morning\", \"date\": 28 }\n",
    "D1 = {\"one\":1,\"two\":2}\n",
    "# D + D1    ERROR\n",
    "# D * 3     ERROR\n",
    "\n",
    "# Loops:\n",
    "for i in D:\n",
    "    print(i) # it give, keys\n",
    "\n",
    "for i in D:\n",
    "    print(D[i]) # it give, values\n",
    "    \n",
    "for i in D:\n",
    "    print(i,D[i]) # it give, key, values.\n",
    "\n",
    "# Membership operator\n",
    "\n",
    "print(28 in D ) # returns False, bcz it checks for keys, not values.\n",
    "\n",
    "print(\"color\" in D) # returns True"
   ]
  },
  {
   "cell_type": "markdown",
   "id": "ba3d83f0-7cdf-4861-a310-d9b9e3f51a3f",
   "metadata": {},
   "source": [
    "**Functions in Dictionary:**"
   ]
  },
  {
   "cell_type": "code",
   "execution_count": 339,
   "id": "46593021-bfa3-41f0-b4d6-50068bdf5f76",
   "metadata": {},
   "outputs": [
    {
     "name": "stdout",
     "output_type": "stream",
     "text": [
      "3\n",
      "color\n",
      "time\n",
      "['color', 'date', 'time']\n",
      "6\n",
      "60\n"
     ]
    }
   ],
   "source": [
    "D = {\"color\": \"Yellow\", \"time\": \"morning\", \"date\": 28 }\n",
    "print(len(D))\n",
    "print(min(D))\n",
    "print(max(D))\n",
    "print(sorted(D))\n",
    "#print(sum(D)) # sum only works on numbers\n",
    "D = {1 : 10, 2 : 20, 3 : 30}\n",
    "print(sum(D)) # sum keys\n",
    "print(sum(D.values())) # sum values"
   ]
  },
  {
   "cell_type": "markdown",
   "id": "868df573-002d-4b54-bc07-452c336e1912",
   "metadata": {},
   "source": [
    "**Special Dictionary Functions:**"
   ]
  },
  {
   "cell_type": "code",
   "execution_count": 342,
   "id": "8a13ed33-bea8-45d4-8dfb-efc5bf803a38",
   "metadata": {},
   "outputs": [
    {
     "name": "stdout",
     "output_type": "stream",
     "text": [
      "dict_keys(['color', 'time', 'date'])\n",
      "dict_values(['Yellow', 'morning', 28])\n",
      "dict_items([('color', 'Yellow'), ('time', 'morning'), ('date', 28)])\n"
     ]
    }
   ],
   "source": [
    "D = {\"color\": \"Yellow\", \"time\": \"morning\", \"date\": 28 }\n",
    "print(D.keys())\n",
    "print(D.values())\n",
    "print(D.items())"
   ]
  },
  {
   "cell_type": "markdown",
   "id": "4880c94f-c87c-4dfc-8792-00c6acf049fc",
   "metadata": {},
   "source": [
    "## Functions:"
   ]
  },
  {
   "cell_type": "markdown",
   "id": "ead5e16d-d8cd-4e83-a4a9-7b1720c67f32",
   "metadata": {},
   "source": [
    "- Functions in Python are blocks of reusable code that perform a specific task. They help to break down complex programs into smaller, manageable parts, making the code more readable and maintainable. Functions can accept inputs known as parameters and can return outputs.\n"
   ]
  },
  {
   "cell_type": "markdown",
   "id": "747dbd53-d5e7-4eae-b17e-d257feb2d57a",
   "metadata": {},
   "source": [
    "##### **Abstraction in Functions:**\r\n",
    "Abstraction in Python functions refers to the concept of hiding the internal implementation details and exposing only the necessary parts to the user. It allows you to focus on *what* the function does rather than *how* it does it. By using abstraction, you can break down complex problems into simpler, more manageable pieces.\r\n",
    "\r\n",
    "For example, when you use a built-in Python function like `len()`, you don’t need to know how Python calculates the length of a list or a string. You just know that it returns the length:\r\n",
    "\r\n",
    "```python\r\n",
    "my_list = [1, 2, 3, 4, 5]\r\n",
    "length = len(my_list)  # You know it returns 5, but not how it does it internalnsible for a specific shape."
   ]
  },
  {
   "cell_type": "markdown",
   "id": "363822df-281f-4cef-b20d-fb18ffc33145",
   "metadata": {
    "jp-MarkdownHeadingCollapsed": true
   },
   "source": [
    "##### **Decomposition in Functions:**\n",
    "Decomposition is the process of breaking down a complex problem or system into smaller, more manageable components or functions. In Python, this often means creating multiple functions, each handling a specific task, and then combining them to solve a larger problem. Decomposition helps in organizing code, making it easier to understand, maintain, and debug.\n",
    "\n",
    "For example, consider a program that calculates the area of a rectangle and a circle. You could decompose this problem into two functions:\n",
    "\n",
    "```python\n",
    "def calculate_rectangle_area(width, height):\n",
    "    return width * height\n",
    "\n",
    "def calculate_circle_area(radius):\n",
    "    import math\n",
    "    return math.pi * radius ** 2\n",
    "\n",
    "# Now you can use these smaller functions in your main program\n",
    "rectangle_area = calculate_rectangle_area(5, 10)\n",
    "circle_area = calculate_circle_area(7)\n",
    "```\n",
    "\n",
    "In this example, the overall problem (calculating areas) is decomposed into smaller functions, each responsible for a specific shape."
   ]
  },
  {
   "cell_type": "markdown",
   "id": "37437590-99b3-4d70-92a1-de94eb06abee",
   "metadata": {},
   "source": [
    "##### **Components of functions in python:**"
   ]
  },
  {
   "cell_type": "markdown",
   "id": "56c8bfa2-0b18-403b-a9b2-cde05005b1ab",
   "metadata": {},
   "source": [
    "\r\n",
    "1. **Function Name**: The identifier used to call the function.\r\n",
    "   ```python\r\n",
    "   def greet():\r\n",
    "   ```\r\n",
    "\r\n",
    "2. **Parameters (Optional)**: Inputs to the function, specified within parentheses. They allow the function to accept arguments when called.\r\n",
    "   ```python\r\n",
    "   def greet(name):\r\n",
    "   ```\r\n",
    "\r\n",
    "3. **Function Body**: The block of code that defines what the function does. It is indented and executed when the function is called.\r\n",
    "   ```python\r\n",
    "   def greet(name):\r\n",
    "       print(f\"Hello, {name}!\")\r\n",
    "   ```\r\n",
    "\r\n",
    "4. **Return Statement (Optional)**: A statement that specifies the value the function should return. If omitted, the function returns `None` by default.\r\n",
    "   ```python\r\n",
    "   def add(a, b):\r\n",
    "       return a + b\r\n",
    "   ```\r\n",
    "\r\n",
    "5. **Docstring (Optional)**: A string literal that describes the function’s purpose, typically placed right after the function definition. It’s used for documentation.\r\n",
    "   ```python\r\n",
    "   def greet(name):\r\n",
    "       \"\"\"This function greets the person passed as an argument.\"\"\"\r\n",
    "       print(f\"Hello, {name}!\")\r\n",
    "   ```\r\n",
    "\r\n",
    "6. **Function Call**: The process of executing the function by using its name followed by parentheses, passing any required arguments.\r\n",
    "   ```python\r\n",
    "   greet(\"Alice\")  # Calls the function with \"Alice\" as an argument\r\n",
    "   ```"
   ]
  },
  {
   "cell_type": "code",
   "execution_count": 2,
   "id": "d0a7fb7d-c7e1-4795-b0df-ff40ac9ac0f4",
   "metadata": {},
   "outputs": [
    {
     "name": "stdout",
     "output_type": "stream",
     "text": [
      "Odd\n",
      "Even\n",
      "Odd\n",
      "Even\n",
      "Odd\n",
      "Even\n",
      "Odd\n",
      "Even\n",
      "Odd\n",
      "Even\n"
     ]
    }
   ],
   "source": [
    "# example:\n",
    "def is_even(number):\n",
    "    \"\"\"\n",
    "    Description: this function tell, if a given number is even or odd\n",
    "    Input: any valid integer\n",
    "    Output: odd/even\n",
    "    Last edited: 28-08-2024\n",
    "    \"\"\"\n",
    "    if(number % 2 == 0):\n",
    "        return \"Even\"\n",
    "    else:\n",
    "        return \"Odd\"\n",
    "        \n",
    "for i in range(1,11):\n",
    "    print(is_even(i))"
   ]
  },
  {
   "cell_type": "code",
   "execution_count": 3,
   "id": "42275828-65fc-41e4-a702-00ca9c64e67e",
   "metadata": {},
   "outputs": [
    {
     "name": "stdout",
     "output_type": "stream",
     "text": [
      "Prints the values to a stream, or to sys.stdout by default.\n",
      "\n",
      "  sep\n",
      "    string inserted between values, default a space.\n",
      "  end\n",
      "    string appended after the last value, default a newline.\n",
      "  file\n",
      "    a file-like object (stream); defaults to the current sys.stdout.\n",
      "  flush\n",
      "    whether to forcibly flush the stream.\n"
     ]
    }
   ],
   "source": [
    "# for any function's documentation write print(function-name.__doc__):\n",
    "print(print.__doc__)"
   ]
  },
  {
   "cell_type": "markdown",
   "id": "bc0f9f9a-c952-4630-87dd-51d4f9d7845f",
   "metadata": {},
   "source": [
    "**Two point of views:**\n",
    "- while creating functions there two point of views, one's who creates a function and second's who use that function.\n",
    "- while creating a function, we write the seperate code and save it in *lib* folder\n",
    "- then we write *import name-of-function* for using it"
   ]
  },
  {
   "cell_type": "code",
   "execution_count": 10,
   "id": "454f5768-db49-4b5b-a0bb-399490a03561",
   "metadata": {},
   "outputs": [
    {
     "name": "stdout",
     "output_type": "stream",
     "text": [
      "Odd\n",
      "Even\n",
      "Odd\n",
      "Even\n",
      "Odd\n",
      "Even\n",
      "Odd\n",
      "Even\n",
      "Odd\n",
      "Even\n"
     ]
    }
   ],
   "source": [
    "# improving the program, now it can handle error\n",
    "def is_even(num):\n",
    "    if type(num) == int:\n",
    "        for i in range(1,num+1):\n",
    "            if i % 2 == 0:\n",
    "                print(\"Even\")\n",
    "            else:\n",
    "                print(\"Odd\")\n",
    "    else:\n",
    "        print(\"please enter Integer number:\")\n",
    "\n",
    "is_even(10)"
   ]
  },
  {
   "cell_type": "markdown",
   "id": "22899b76-5cfc-47dc-910f-513eb4adaf01",
   "metadata": {},
   "source": [
    "**Return vs Print:**\n",
    "- In Python, we may use the print statements to display the final output of a code on the console,\n",
    "- whereas the return statement returns a final value of a function execution which may be used further in the code. "
   ]
  },
  {
   "cell_type": "markdown",
   "id": "13b3d164-c5f7-4658-9949-799475a9b9a3",
   "metadata": {},
   "source": [
    "##### **Parameter vs Arguments:**\n",
    "- In Python, the terms **parameters** and **arguments** are often used interchangeably, but they have distinct meanings:"
   ]
  },
  {
   "cell_type": "markdown",
   "id": "1de34d25-cb58-4dd6-a38e-4ff4ac40d927",
   "metadata": {},
   "source": [
    "- **Parameters** are the variables listed inside the parentheses in the function definition. They act as placeholders for the values that will be passed to the function.\n",
    "\n",
    "```python\n",
    "  def greet(name):\n",
    "      print(f\"Hello, {name}!\")\n",
    "  ```\n",
    "  Here, `name` is a parameter."
   ]
  },
  {
   "cell_type": "markdown",
   "id": "b823b00c-f66b-4c68-a81d-4d9b4d510d95",
   "metadata": {},
   "source": [
    "- **Arguments** are the actual values passed to the function when it is called. They fulfill the requirements set by the parameters.\n",
    " \n",
    "  ```python\n",
    "  greet(\"Alice\")\n",
    "  ```\n",
    "In this example, `\"Alice\"` is the argument provided for the `name` parameter."
   ]
  },
  {
   "cell_type": "markdown",
   "id": "308e38e7-a07f-4c4a-aced-551615536d56",
   "metadata": {},
   "source": [
    "##### **Types of Arguments in Python:**"
   ]
  },
  {
   "cell_type": "markdown",
   "id": "0e2754ce-7cee-4e5a-bb0d-5b300697eab0",
   "metadata": {},
   "source": [
    "1. **Positional Arguments**: These must be included in the proper order.\n",
    "   ```python\n",
    "   def add(a, b):\n",
    "       return a + b\n",
    "\n",
    "   add(2, 3)  # 2 and 3 are positional arguments\n",
    "   ```"
   ]
  },
  {
   "cell_type": "markdown",
   "id": "979eea3e-90b5-487c-b3ab-ded5323b65cc",
   "metadata": {},
   "source": [
    "2. **Keyword Arguments**: These are passed with the parameter name, allowing them to be in any order.\n",
    "   ```python\n",
    "   def greet(first_name, last_name):\n",
    "       print(f\"Hello, {first_name} {last_name}!\")\n",
    "\n",
    "   greet(last_name=\"Doe\", first_name=\"John\")\n",
    "   ```"
   ]
  },
  {
   "cell_type": "markdown",
   "id": "ac52e4fc-3455-49a9-ab33-4d99ecd40e32",
   "metadata": {},
   "source": [
    "3. **Default Arguments**: These have a default value if no argument is provided.\n",
    "   ```python\n",
    "   def greet(name=\"Guest\"):\n",
    "       print(f\"Hello, {name}!\")\n",
    "\n",
    "   greet()  # Uses the default value \"Guest\"\n",
    "   ```"
   ]
  },
  {
   "cell_type": "markdown",
   "id": "ff467355-e5a5-47ae-9cb4-27c49ae446e9",
   "metadata": {},
   "source": [
    "4. **Variable-length Arguments**: These allow passing an arbitrary number of arguments.\n",
    "   - Using `*args` for positional arguments:\n",
    "     ```python\n",
    "     def add(*args):\n",
    "         return sum(args)\n",
    "\n",
    "     add(1, 2, 3)  # 1, 2, and 3 are passed as a tuple\n",
    "     ```"
   ]
  },
  {
   "cell_type": "markdown",
   "id": "6dc2aaba-ffd5-48d5-9eab-f3fc9f59ca01",
   "metadata": {},
   "source": [
    "- Using `**kwargs` for keyword arguments:\n",
    "     ```python\n",
    "     def greet(**kwargs):\n",
    "         for key, value in kwargs.items():\n",
    "             print(f\"{key}: {value}\")\n",
    "\n",
    "     greet(first_name=\"John\", last_name=\"Doe\")\n",
    "     ```"
   ]
  },
  {
   "cell_type": "markdown",
   "id": "aa13c09a-c04e-4e22-80f6-c7c10632fa74",
   "metadata": {},
   "source": [
    "##### **Global vs Local variables:**\n",
    "- In Python, the difference between global and local variables lies in their scope and accessibility:"
   ]
  },
  {
   "cell_type": "markdown",
   "id": "e0ab8ce2-f4c8-452d-9d87-f14879102c09",
   "metadata": {},
   "source": [
    "**Local Variables**\n",
    "\n",
    "- **Definition**: Variables defined inside a function.\n",
    "- **Scope**: Accessible only within the function where they are declared.\n",
    "- **Example**:\n",
    " \n",
    "  ```python\n",
    "  def my_function():\n",
    "      local_var = \"I'm local\"\n",
    "      print(local_var)\n",
    "\n",
    "  my_function()\n",
    "  # Output: I'm local\n",
    "  print(local_var)\n",
    "  # Error: NameError: name 'local_var' is not defined\n",
    "  ```"
   ]
  },
  {
   "cell_type": "markdown",
   "id": "c8009498-ebdf-4417-b951-3a88810e7807",
   "metadata": {},
   "source": [
    "**Global Variables**\n",
    "\n",
    "- **Definition**: Variables defined outside any function.\n",
    "- **Scope**: Accessible throughout the entire program, including inside functions.\n",
    "- **Example**:\n",
    " \n",
    "  ```python\n",
    "  global_var = \"I'm global\"\n",
    "\n",
    "  def my_function():\n",
    "      print(global_var)\n",
    "\n",
    "  my_function()\n",
    "  # Output: I'm global\n",
    "  print(global_var)\n",
    "  # Output: I'm global\n",
    "  ```\n"
   ]
  },
  {
   "cell_type": "markdown",
   "id": "40343b35-c1da-49c7-b100-1a2e2c018f9d",
   "metadata": {},
   "source": [
    "**Using Global Variables Inside Functions:**\n",
    "- To modify a global variable inside a function, you need to use the `global` keyword:\n",
    " \n",
    "  ```python\n",
    "  global_var = \"I'm global\"\n",
    "\n",
    "  def my_function():\n",
    "      global global_var\n",
    "      global_var = \"Modified inside function\"\n",
    "\n",
    "  my_function()\n",
    "  print(global_var)\n",
    "  # Output: Modified inside function\n",
    "  ```"
   ]
  },
  {
   "cell_type": "code",
   "execution_count": null,
   "id": "87c16a16-cb3d-4811-8678-e95adeb15284",
   "metadata": {},
   "outputs": [],
   "source": []
  }
 ],
 "metadata": {
  "kernelspec": {
   "display_name": "Python 3 (ipykernel)",
   "language": "python",
   "name": "python3"
  },
  "language_info": {
   "codemirror_mode": {
    "name": "ipython",
    "version": 3
   },
   "file_extension": ".py",
   "mimetype": "text/x-python",
   "name": "python",
   "nbconvert_exporter": "python",
   "pygments_lexer": "ipython3",
   "version": "3.11.7"
  }
 },
 "nbformat": 4,
 "nbformat_minor": 5
}
